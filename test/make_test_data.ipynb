{
 "cells": [
  {
   "cell_type": "code",
   "execution_count": null,
   "metadata": {},
   "outputs": [],
   "source": []
  },
  {
   "cell_type": "code",
   "execution_count": 45,
   "metadata": {
    "ExecuteTime": {
     "end_time": "2020-05-14T07:58:48.520937Z",
     "start_time": "2020-05-14T07:58:48.515810Z"
    }
   },
   "outputs": [],
   "source": [
    "import sys\n",
    "sys.path.insert(0,'..')\n",
    "import sib\n",
    "import pandas as pd\n",
    "import numpy as np"
   ]
  },
  {
   "cell_type": "markdown",
   "metadata": {},
   "source": [
    "## Order of parameters\n",
    "\n",
    "### Contacts:\n",
    "\n",
    "in order: (i, j, t, lambda)\n",
    "\n",
    "### Observations:\n",
    "(i,s,t) which is in order:\n",
    "\n",
    "- node\n",
    "- state\n",
    "- time"
   ]
  },
  {
   "cell_type": "code",
   "execution_count": 46,
   "metadata": {
    "ExecuteTime": {
     "end_time": "2020-05-14T07:58:48.874373Z",
     "start_time": "2020-05-14T07:58:48.834111Z"
    }
   },
   "outputs": [
    {
     "name": "stdout",
     "output_type": "stream",
     "text": [
      "Number of instances: 50\n"
     ]
    },
    {
     "data": {
      "text/plain": [
       "{'type_graph': 'TREE',\n",
       " 't_limit': 8,\n",
       " 'lambda': 0.9,\n",
       " 'mu': 0.3,\n",
       " 'seed': 3,\n",
       " 'n': 31,\n",
       " 'p_tested': 0.01,\n",
       " 'p_asymptomatic': 0.5,\n",
       " 'p_delay_symptoms': {'1': 0.7, '2': 0.30000000000000004}}"
      ]
     },
     "execution_count": 46,
     "metadata": {},
     "output_type": "execute_result"
    }
   ],
   "source": [
    "from pathlib import Path\n",
    "import data_load\n",
    "\n",
    "folder_data = Path(\"data/tree_check/\")\n",
    "\n",
    "params,contacts,observ,epidem = data_load.load_exported_data(folder_data)\n",
    "\n",
    "n_inst = len(observ)\n",
    "print(\"Number of instances: {}\".format(len(observ)))\n",
    "params"
   ]
  },
  {
   "cell_type": "code",
   "execution_count": 47,
   "metadata": {
    "ExecuteTime": {
     "end_time": "2020-05-14T07:58:48.997055Z",
     "start_time": "2020-05-14T07:58:48.992295Z"
    }
   },
   "outputs": [],
   "source": [
    "contacts = contacts[[\"i\",\"j\",\"t\",\"lambda\"]]\n",
    "#contacts.iloc[:30]"
   ]
  },
  {
   "cell_type": "code",
   "execution_count": 48,
   "metadata": {
    "ExecuteTime": {
     "end_time": "2020-05-14T07:58:49.602890Z",
     "start_time": "2020-05-14T07:58:49.411156Z"
    }
   },
   "outputs": [],
   "source": [
    "obs_all_df = []\n",
    "for obs in observ:\n",
    "    obs_df = data_load.convert_obs_to_df(obs)\n",
    "    obs_df = obs_df[[\"i\",\"st\",\"t\"]]\n",
    "    obs_all_df.append(obs_df)"
   ]
  },
  {
   "cell_type": "markdown",
   "metadata": {},
   "source": [
    "### Take one epidemic instance"
   ]
  },
  {
   "cell_type": "code",
   "execution_count": 49,
   "metadata": {
    "ExecuteTime": {
     "end_time": "2020-05-14T07:58:50.210519Z",
     "start_time": "2020-05-14T07:58:50.204082Z"
    }
   },
   "outputs": [],
   "source": [
    "inst = 8"
   ]
  },
  {
   "cell_type": "code",
   "execution_count": 50,
   "metadata": {
    "ExecuteTime": {
     "end_time": "2020-05-14T07:58:50.844815Z",
     "start_time": "2020-05-14T07:58:50.834570Z"
    }
   },
   "outputs": [
    {
     "name": "stdout",
     "output_type": "stream",
     "text": [
      "{'S': {'4': [27]}, 'I': {'2': [9], '3': [4], '4': [3, 19], '6': [2, 6, 7], '7': [5, 6, 16], '8': [12, 13]}, 'R': {}}\n"
     ]
    }
   ],
   "source": [
    "epi_i = epidem[inst]\n",
    "obs_dict = observ[inst]\n",
    "print(obs_dict)"
   ]
  },
  {
   "cell_type": "code",
   "execution_count": 51,
   "metadata": {
    "ExecuteTime": {
     "end_time": "2020-05-14T07:58:51.258113Z",
     "start_time": "2020-05-14T07:58:51.252560Z"
    }
   },
   "outputs": [],
   "source": [
    "obs_df = obs_all_df[inst]"
   ]
  },
  {
   "cell_type": "code",
   "execution_count": 52,
   "metadata": {
    "ExecuteTime": {
     "end_time": "2020-05-14T07:58:51.985346Z",
     "start_time": "2020-05-14T07:58:51.974771Z"
    },
    "jupyter": {
     "outputs_hidden": true
    }
   },
   "outputs": [
    {
     "name": "stdout",
     "output_type": "stream",
     "text": [
      "[[0 0 0 0 0 0 0 0 0 0 0 0 0 0 0 0 0 0 0 0 1 0 0 0 0 0 0 0 0 0 0]\n",
      " [0 0 0 0 0 0 0 0 0 1 0 0 0 0 0 0 0 0 0 0 1 0 0 0 0 0 0 0 0 0 0]\n",
      " [0 0 0 0 1 0 0 0 0 1 0 0 0 0 0 0 0 0 0 1 1 0 0 0 0 0 0 0 0 0 0]\n",
      " [0 1 0 0 1 0 0 0 0 1 1 0 0 0 0 0 0 0 0 1 1 0 0 0 0 0 0 0 0 0 0]\n",
      " [1 1 0 1 1 0 0 0 0 1 2 0 0 0 0 0 0 0 0 1 1 1 1 0 0 0 0 0 0 0 0]\n",
      " [2 1 1 1 1 0 0 1 1 1 2 0 0 0 0 0 0 0 0 1 1 2 2 0 0 0 0 0 0 0 0]\n",
      " [2 1 1 2 2 1 1 1 2 2 2 0 0 0 0 1 1 1 1 1 1 2 2 0 0 0 0 0 0 0 0]\n",
      " [2 1 1 2 2 1 1 1 2 2 2 1 1 1 1 1 1 2 1 1 1 2 2 0 0 0 0 0 0 0 0]\n",
      " [2 1 1 2 2 1 2 1 2 2 2 1 1 1 1 2 1 2 2 2 2 2 2 1 0 1 1 1 1 1 0]]\n"
     ]
    }
   ],
   "source": [
    "print(epi_i)"
   ]
  },
  {
   "cell_type": "code",
   "execution_count": 53,
   "metadata": {
    "ExecuteTime": {
     "end_time": "2020-05-14T07:58:52.514121Z",
     "start_time": "2020-05-14T07:58:52.504356Z"
    }
   },
   "outputs": [
    {
     "name": "stdout",
     "output_type": "stream",
     "text": [
      "Source is  20\n"
     ]
    }
   ],
   "source": [
    "src = np.where(epi_i[0])[0][0]\n",
    "print(\"Source is \",src)"
   ]
  },
  {
   "cell_type": "markdown",
   "metadata": {},
   "source": [
    "### Setup sib"
   ]
  },
  {
   "cell_type": "code",
   "execution_count": 54,
   "metadata": {
    "ExecuteTime": {
     "end_time": "2020-05-14T07:58:53.643345Z",
     "start_time": "2020-05-14T07:58:53.640312Z"
    }
   },
   "outputs": [],
   "source": [
    "def callback(t, err, f):\n",
    "    print(f\"{t:4d}, {err:3.2e}\", end=\"\\r\")"
   ]
  },
  {
   "cell_type": "code",
   "execution_count": 55,
   "metadata": {
    "ExecuteTime": {
     "end_time": "2020-05-14T07:58:54.160333Z",
     "start_time": "2020-05-14T07:58:54.148061Z"
    }
   },
   "outputs": [],
   "source": [
    "contacts_sib = list(contacts.to_records(index=False))\n",
    "obs_sib = list(obs_df.to_records(index=False))"
   ]
  },
  {
   "cell_type": "code",
   "execution_count": 56,
   "metadata": {
    "ExecuteTime": {
     "end_time": "2020-05-14T07:58:54.895645Z",
     "start_time": "2020-05-14T07:58:54.888480Z"
    }
   },
   "outputs": [],
   "source": [
    "mu = params[\"mu\"]\n",
    "sib_pars = sib.Params(prob_r=sib.Gamma(mu=mu))\n",
    "fg = sib.FactorGraph(sib_pars, contacts_sib, obs_sib)"
   ]
  },
  {
   "cell_type": "code",
   "execution_count": 57,
   "metadata": {
    "ExecuteTime": {
     "end_time": "2020-05-14T07:58:55.633502Z",
     "start_time": "2020-05-14T07:58:55.594472Z"
    }
   },
   "outputs": [
    {
     "name": "stdout",
     "output_type": "stream",
     "text": [
      "   0, inf\r",
      "   1, 9.09e-01\r",
      "   2, 4.82e-01\r",
      "   3, 6.33e-01\r",
      "   4, 3.40e-01\r",
      "   5, 1.69e-01\r",
      "   6, 1.23e-01\r",
      "   7, 7.74e-02\r",
      "   8, 0.00e+00\r"
     ]
    }
   ],
   "source": [
    "sib.iterate(fg,100,3e-6,callback=callback)"
   ]
  },
  {
   "cell_type": "code",
   "execution_count": 58,
   "metadata": {
    "ExecuteTime": {
     "end_time": "2020-05-14T07:58:58.860152Z",
     "start_time": "2020-05-14T07:58:58.852267Z"
    },
    "jupyter": {
     "outputs_hidden": true
    }
   },
   "outputs": [],
   "source": [
    "beliefs = []\n",
    "for n in fg.nodes:\n",
    "    res = (np.array(n.bt),np.array(n.bg))\n",
    "    beliefs.append(np.stack(res))\n",
    "    #print(beliefs[-1].shape)"
   ]
  },
  {
   "cell_type": "code",
   "execution_count": 59,
   "metadata": {
    "ExecuteTime": {
     "end_time": "2020-05-14T07:58:59.258099Z",
     "start_time": "2020-05-14T07:58:59.250526Z"
    }
   },
   "outputs": [],
   "source": [
    "names = [str(i) for i in range(len(fg.nodes))]"
   ]
  },
  {
   "cell_type": "code",
   "execution_count": 60,
   "metadata": {
    "ExecuteTime": {
     "end_time": "2020-05-14T07:58:59.639517Z",
     "start_time": "2020-05-14T07:58:59.619141Z"
    }
   },
   "outputs": [],
   "source": [
    "np.savez(f\"beliefs_inst_{inst}\",**dict(zip(names,beliefs)))"
   ]
  },
  {
   "cell_type": "code",
   "execution_count": 61,
   "metadata": {
    "ExecuteTime": {
     "end_time": "2020-05-14T07:59:00.348992Z",
     "start_time": "2020-05-14T07:59:00.345778Z"
    }
   },
   "outputs": [],
   "source": [
    "data = np.load(\"beliefs_inst_8.npz\")"
   ]
  },
  {
   "cell_type": "code",
   "execution_count": 62,
   "metadata": {
    "ExecuteTime": {
     "end_time": "2020-05-14T07:59:02.040978Z",
     "start_time": "2020-05-14T07:59:02.036835Z"
    }
   },
   "outputs": [
    {
     "data": {
      "text/plain": [
       "['0',\n",
       " '1',\n",
       " '2',\n",
       " '3',\n",
       " '4',\n",
       " '5',\n",
       " '6',\n",
       " '7',\n",
       " '8',\n",
       " '9',\n",
       " '10',\n",
       " '11',\n",
       " '12',\n",
       " '13',\n",
       " '14',\n",
       " '15',\n",
       " '16',\n",
       " '17',\n",
       " '18',\n",
       " '19',\n",
       " '20',\n",
       " '21',\n",
       " '22',\n",
       " '23',\n",
       " '24',\n",
       " '25',\n",
       " '26',\n",
       " '27',\n",
       " '28',\n",
       " '29',\n",
       " '30']"
      ]
     },
     "execution_count": 62,
     "metadata": {},
     "output_type": "execute_result"
    }
   ],
   "source": [
    "data.files"
   ]
  },
  {
   "cell_type": "markdown",
   "metadata": {},
   "source": [
    "## Batch processing"
   ]
  },
  {
   "cell_type": "code",
   "execution_count": 63,
   "metadata": {
    "ExecuteTime": {
     "end_time": "2020-05-14T07:59:04.071045Z",
     "start_time": "2020-05-14T07:59:04.066499Z"
    }
   },
   "outputs": [],
   "source": [
    "contacts_sib = list(contacts.to_records(index=False))\n",
    "names = [str(i) for i in range(params[\"n\"])]"
   ]
  },
  {
   "cell_type": "code",
   "execution_count": 78,
   "metadata": {
    "ExecuteTime": {
     "end_time": "2020-05-14T08:03:34.153250Z",
     "start_time": "2020-05-14T08:03:34.132188Z"
    }
   },
   "outputs": [
    {
     "data": {
      "text/html": [
       "<div>\n",
       "<style scoped>\n",
       "    .dataframe tbody tr th:only-of-type {\n",
       "        vertical-align: middle;\n",
       "    }\n",
       "\n",
       "    .dataframe tbody tr th {\n",
       "        vertical-align: top;\n",
       "    }\n",
       "\n",
       "    .dataframe thead th {\n",
       "        text-align: right;\n",
       "    }\n",
       "</style>\n",
       "<table border=\"1\" class=\"dataframe\">\n",
       "  <thead>\n",
       "    <tr style=\"text-align: right;\">\n",
       "      <th></th>\n",
       "      <th>i</th>\n",
       "      <th>st</th>\n",
       "      <th>t</th>\n",
       "    </tr>\n",
       "  </thead>\n",
       "  <tbody>\n",
       "    <tr>\n",
       "      <th>0</th>\n",
       "      <td>6</td>\n",
       "      <td>0</td>\n",
       "      <td>0</td>\n",
       "    </tr>\n",
       "    <tr>\n",
       "      <th>0</th>\n",
       "      <td>9</td>\n",
       "      <td>0</td>\n",
       "      <td>2</td>\n",
       "    </tr>\n",
       "    <tr>\n",
       "      <th>0</th>\n",
       "      <td>17</td>\n",
       "      <td>1</td>\n",
       "      <td>4</td>\n",
       "    </tr>\n",
       "    <tr>\n",
       "      <th>0</th>\n",
       "      <td>12</td>\n",
       "      <td>1</td>\n",
       "      <td>7</td>\n",
       "    </tr>\n",
       "    <tr>\n",
       "      <th>1</th>\n",
       "      <td>21</td>\n",
       "      <td>1</td>\n",
       "      <td>7</td>\n",
       "    </tr>\n",
       "    <tr>\n",
       "      <th>2</th>\n",
       "      <td>22</td>\n",
       "      <td>1</td>\n",
       "      <td>7</td>\n",
       "    </tr>\n",
       "    <tr>\n",
       "      <th>0</th>\n",
       "      <td>10</td>\n",
       "      <td>2</td>\n",
       "      <td>7</td>\n",
       "    </tr>\n",
       "    <tr>\n",
       "      <th>0</th>\n",
       "      <td>14</td>\n",
       "      <td>1</td>\n",
       "      <td>8</td>\n",
       "    </tr>\n",
       "    <tr>\n",
       "      <th>1</th>\n",
       "      <td>25</td>\n",
       "      <td>1</td>\n",
       "      <td>8</td>\n",
       "    </tr>\n",
       "  </tbody>\n",
       "</table>\n",
       "</div>"
      ],
      "text/plain": [
       "    i  st  t\n",
       "0   6   0  0\n",
       "0   9   0  2\n",
       "0  17   1  4\n",
       "0  12   1  7\n",
       "1  21   1  7\n",
       "2  22   1  7\n",
       "0  10   2  7\n",
       "0  14   1  8\n",
       "1  25   1  8"
      ]
     },
     "execution_count": 78,
     "metadata": {},
     "output_type": "execute_result"
    }
   ],
   "source": [
    "obs_all_df[0].sort_values(by=\"t\", inplace=True)\n",
    "obs_all_df[0]"
   ]
  },
  {
   "cell_type": "code",
   "execution_count": 72,
   "metadata": {
    "ExecuteTime": {
     "end_time": "2020-05-14T08:01:21.813043Z",
     "start_time": "2020-05-14T08:01:19.566954Z"
    }
   },
   "outputs": [
    {
     "name": "stdout",
     "output_type": "stream",
     "text": [
      "0 inf\n",
      "1 0.9\n",
      "2 0.4908200468638564\n",
      "3 0.3188670991376257\n",
      "4 0.3410215246556428\n",
      "5 0.2577644552270978\n",
      "6 0.11417624608391663\n",
      "7 0.10218456952920552\n",
      "8 0.09011872960944872\n",
      "9 0.0\n",
      "\n",
      "Finished\n",
      "0 inf\n",
      "1 0.9090909090909091\n",
      "2 0.7199650936978632\n",
      "3 0.4485398335348392\n",
      "4 0.2886688258672616\n",
      "5 0.2886688258672616\n",
      "6 0.0864980057658798\n",
      "7 0.027218772673373443\n",
      "8 0.009844251252036008\n",
      "9 0.0\n",
      "\n",
      "Finished\n",
      "0 inf\n",
      "1 0.9090909090909091\n",
      "2 0.7721416869068866\n",
      "3 0.3246052542382018\n",
      "4 0.3114715821600669\n",
      "5 0.2801806490772911\n",
      "6 0.11069673431012772\n",
      "7 0.04517753142833904\n",
      "8 0.003439557341772148\n",
      "9 0.0\n",
      "\n",
      "Finished\n",
      "0 inf\n",
      "1 0.9090909090909091\n",
      "2 0.5437278206387481\n",
      "3 0.4045531453623853\n",
      "4 0.2826881640554885\n",
      "5 0.2618116398039921\n",
      "6 0.2526821639833079\n",
      "7 0.0\n",
      "\n",
      "Finished\n",
      "0 inf\n",
      "1 0.9090909090909091\n",
      "2 0.8835680488351797\n",
      "3 0.8491950362701252\n",
      "4 0.34478835417616305\n",
      "5 0.1807550216726972\n",
      "6 0.08507677154165882\n",
      "7 0.037617991092635084\n",
      "8 0.0\n",
      "\n",
      "Finished\n",
      "0 inf\n",
      "1 0.9090909090909091\n",
      "2 0.4977550830737674\n",
      "3 0.31471443075710215\n",
      "4 0.25312902263023795\n",
      "5 0.24899407474041813\n",
      "6 0.08914355470188529\n",
      "7 0.08655888537520806\n",
      "8 0.0\n",
      "\n",
      "Finished\n",
      "0 inf\n",
      "1 0.9\n",
      "2 0.3756976469456005\n",
      "3 0.3777688446786148\n",
      "4 0.34175378084871927\n",
      "5 0.22265694372556954\n",
      "6 0.1828677783986739\n",
      "7 0.16916731423880638\n",
      "8 0.0\n",
      "\n",
      "Finished\n",
      "0 inf\n",
      "1 0.9090909090909091\n",
      "2 0.6349369651846241\n",
      "3 0.3923181407255654\n",
      "4 0.3603094624487414\n",
      "5 0.2897095209201462\n",
      "6 0.13488568682177235\n",
      "7 0.11046591228066216\n",
      "8 0.0\n",
      "\n",
      "Finished\n",
      "0 inf\n",
      "1 0.9090909090909091\n",
      "2 0.5266804135741595\n",
      "3 0.5613743222908985\n",
      "4 0.27701571246484136\n",
      "5 0.226548066167994\n",
      "6 0.11286639948254984\n",
      "7 0.08958206564497184\n",
      "8 0.0\n",
      "\n",
      "Finished\n",
      "0 inf\n",
      "1 0.9090909090909091\n",
      "2 0.8835680489936757\n",
      "3 0.5214062336894258\n",
      "4 0.3984651971373218\n",
      "5 0.3157300566043816\n",
      "6 0.13606875538733176\n",
      "7 0.0\n",
      "\n",
      "Finished\n",
      "0 inf\n",
      "1 0.6408182206817178\n",
      "2 0.6545771199533705\n",
      "3 0.500289147373162\n",
      "4 0.317085910544886\n",
      "5 0.24581069508751807\n",
      "6 0.16620624944557622\n",
      "7 0.023565430582343366\n",
      "8 0.010926183838845575\n",
      "9 0.0\n",
      "\n",
      "Finished\n",
      "0 inf\n",
      "1 0.9090909090909091\n",
      "2 0.537215094886719\n",
      "3 0.3462174275962308\n",
      "4 0.19413180980896838\n",
      "5 0.20233170359159713\n",
      "6 0.12687186882715484\n",
      "7 0.04626059234793892\n",
      "8 0.03479338133668153\n",
      "9 0.0\n",
      "\n",
      "Finished\n",
      "0 inf\n",
      "1 0.7896475559082351\n",
      "2 0.6408544679317748\n",
      "3 0.5657680618064704\n",
      "4 0.5239410372236839\n",
      "5 0.4873929947029234\n",
      "6 0.21374128322298447\n",
      "7 0.0\n",
      "\n",
      "Finished\n",
      "0 inf\n",
      "1 0.9090909090909091\n",
      "2 0.5963261002290705\n",
      "3 0.573141716018707\n",
      "4 0.3295147608799307\n",
      "5 0.28130246963286987\n",
      "6 0.18591331929848598\n",
      "7 0.0\n",
      "\n",
      "Finished\n",
      "0 inf\n",
      "1 0.9090909090909091\n",
      "2 0.46260083983888745\n",
      "3 0.30446931278334743\n",
      "4 0.24835864062666957\n",
      "5 0.12974231853625118\n",
      "6 0.06708444621795658\n",
      "7 0.04155669144924856\n",
      "8 0.026317400030544467\n",
      "9 0.0\n",
      "\n",
      "Finished\n",
      "0 inf\n",
      "1 0.4380528425826905\n",
      "2 0.6618538205483723\n",
      "3 0.6283001430216384\n",
      "4 0.6394574566693636\n",
      "5 0.26012586114579517\n",
      "6 0.1516892375817941\n",
      "7 0.02830763956797644\n",
      "8 0.0\n",
      "\n",
      "Finished\n",
      "0 inf\n",
      "1 0.9090909090909091\n",
      "2 0.5043840734827585\n",
      "3 0.5014467869562105\n",
      "4 0.634049593061951\n",
      "5 0.6196945691928712\n",
      "6 0.20086973162032207\n",
      "7 0.008214084103579045\n",
      "8 0.0\n",
      "\n",
      "Finished\n",
      "0 inf\n",
      "1 0.7254563553996987\n",
      "2 0.5870307676841573\n",
      "3 0.48997219060759767\n",
      "4 0.38182815117803204\n",
      "5 0.31483856066088534\n",
      "6 0.14544834162780484\n",
      "7 0.09309354570489564\n",
      "8 0.061053550067779606\n",
      "9 0.0\n",
      "\n",
      "Finished\n",
      "0 inf\n",
      "1 0.9090909090909091\n",
      "2 0.5869312175677179\n",
      "3 0.3645185176900528\n",
      "4 0.2664306798675948\n",
      "5 0.22121392773845333\n",
      "6 0.04715756415164052\n",
      "7 0.03901493530733541\n",
      "8 0.03552627987124715\n",
      "9 0.0\n",
      "\n",
      "Finished\n",
      "0 inf\n",
      "1 0.9090909090909091\n",
      "2 0.5942266589501732\n",
      "3 0.49597900912221027\n",
      "4 0.48155442576652524\n",
      "5 0.2651739943099803\n",
      "6 0.12166664943845601\n",
      "7 0.0\n",
      "\n",
      "Finished\n",
      "0 inf\n",
      "1 0.9\n",
      "2 0.45371023539215405\n",
      "3 0.4807730578554167\n",
      "4 0.4198119240668222\n",
      "5 0.21044648732667104\n",
      "6 0.19009766377424492\n",
      "7 0.014295778140435311\n",
      "8 0.0\n",
      "\n",
      "Finished\n",
      "0 inf\n",
      "1 0.6406204605557639\n",
      "2 0.5523284450686647\n",
      "3 0.4383331525506744\n",
      "4 0.352134611542952\n",
      "5 0.32704772183809083\n",
      "6 0.2611183600522944\n",
      "7 0.08493943548040717\n",
      "8 0.0\n",
      "\n",
      "Finished\n",
      "0 inf\n",
      "1 0.9090909090909091\n",
      "2 0.6190393637954311\n",
      "3 0.43049627016538333\n",
      "4 0.31747893166063623\n",
      "5 0.3061499836277356\n",
      "6 0.2759982482498504\n",
      "7 0.17870321914726117\n",
      "8 0.0\n",
      "\n",
      "Finished\n",
      "0 inf\n",
      "1 0.9090909090909091\n",
      "2 0.774025424953937\n",
      "3 0.5504319515019565\n",
      "4 0.5091307194038355\n",
      "5 0.16388977994151804\n",
      "6 0.08831375609838832\n",
      "7 0.03039631340778326\n",
      "8 0.0\n",
      "\n",
      "Finished\n",
      "0 inf\n",
      "1 0.9\n",
      "2 0.7034784006400763\n",
      "3 0.4708730560772107\n",
      "4 0.3803410074943298\n",
      "5 0.2240260813633589\n",
      "6 0.1299569152698708\n",
      "7 0.06112370784568022\n",
      "8 0.0\n",
      "\n",
      "Finished\n",
      "0 inf\n",
      "1 0.9090909090909091\n",
      "2 0.42718809757160403\n",
      "3 0.5035012592740769\n",
      "4 0.31294150169710244\n",
      "5 0.3564831252049021\n",
      "6 0.30370346506512325\n",
      "7 0.08292582481386694\n",
      "8 0.0\n",
      "\n",
      "Finished\n",
      "0 inf\n",
      "1 0.9090909090909091\n",
      "2 0.5791128453231464\n",
      "3 0.6078396496840629\n",
      "4 0.5803387363380084\n",
      "5 0.42973040925392114\n",
      "6 0.23979333765269753\n",
      "7 0.0081733622807601\n",
      "8 0.004600611178280145\n",
      "9 0.0\n",
      "\n",
      "Finished\n",
      "0 inf\n",
      "1 0.9090909090909091\n",
      "2 0.6174293338787966\n",
      "3 0.5365639573464155\n",
      "4 0.49039268766752697\n",
      "5 0.47214144529318686\n",
      "6 0.4603791610588694\n",
      "7 0.4492159624035227\n",
      "8 0.0\n",
      "\n",
      "Finished\n",
      "0 inf\n",
      "1 0.9\n",
      "2 0.6971023313867998\n",
      "3 0.4742996854043317\n",
      "4 0.364082474558656\n",
      "5 0.3298974328727971\n",
      "6 0.27597136636317954\n",
      "7 0.06806643166472515\n",
      "8 0.0\n",
      "\n",
      "Finished\n",
      "0 inf\n",
      "1 0.9090909090909091\n",
      "2 0.4235635944277596\n",
      "3 0.3995071246524257\n",
      "4 0.34187514241591077\n",
      "5 0.3011324589855893\n",
      "6 0.05488831446564446\n",
      "7 0.04566522099400627\n",
      "8 0.007952988375729525\n",
      "9 0.0\n",
      "\n",
      "Finished\n",
      "0 inf\n",
      "1 0.5351454494668121\n",
      "2 0.6150112728526217\n",
      "3 0.28882143175346753\n",
      "4 0.40828143633296116\n",
      "5 0.19857717575107664\n",
      "6 0.08246414400272917\n",
      "7 0.05416488442904374\n",
      "8 0.0\n",
      "\n",
      "Finished\n",
      "0 inf\n",
      "1 0.9\n",
      "2 0.7858083278950909\n",
      "3 0.3995342949407669\n",
      "4 0.358610671141765\n",
      "5 0.13929687684115233\n",
      "6 0.04542500009289374\n",
      "7 0.029935135827156997\n",
      "8 0.02079142247635868\n",
      "9 0.0\n",
      "\n",
      "Finished\n",
      "0 inf\n",
      "1 0.9090909090909091\n",
      "2 0.5415575929258676\n",
      "3 0.34928138613081716\n",
      "4 0.24089278063528563\n",
      "5 0.21440285253563093\n",
      "6 0.14098374783083745\n",
      "7 0.05793416312939456\n",
      "8 0.025053633465534353\n",
      "9 0.0\n",
      "\n",
      "Finished\n",
      "0 inf\n",
      "1 0.9\n",
      "2 0.5980903734174657\n",
      "3 0.5076457620420483\n",
      "4 0.5376067222518313\n",
      "5 0.15255655728325906\n",
      "6 0.13301925979045137\n",
      "7 0.046666512897318366\n",
      "8 0.03044105980954697\n",
      "9 0.0\n",
      "\n",
      "Finished\n",
      "0 inf\n",
      "1 0.9090909090909091\n",
      "2 0.44205102426219056\n",
      "3 0.2854123216951255\n",
      "4 0.26250502200804976\n",
      "5 0.20243424208446104\n",
      "6 0.11398675248160466\n",
      "7 0.05207285717309551\n",
      "8 0.04337455713824141\n",
      "9 0.0\n",
      "\n",
      "Finished\n",
      "0 inf\n",
      "1 0.9090909090909091\n",
      "2 0.48721526481242444\n",
      "3 0.3811433411600539\n",
      "4 0.3521717032993117\n",
      "5 0.1099123189385468\n",
      "6 0.07185656026207521\n",
      "7 0.0\n",
      "\n",
      "Finished\n",
      "0 inf\n",
      "1 0.9090909090909091\n",
      "2 0.5484294702988539\n",
      "3 0.5434464142294065\n",
      "4 0.4707956063757266\n",
      "5 0.30608620250577184\n",
      "6 0.1039817244387213\n",
      "7 0.009446056622613663\n",
      "8 0.007382377113566596\n",
      "9 0.0\n",
      "\n",
      "Finished\n",
      "0 inf\n",
      "1 0.9090909090909091\n",
      "2 0.7648222960524694\n",
      "3 0.7691971129783248\n",
      "4 0.47976184171254177\n",
      "5 0.3989358065242141\n",
      "6 0.3536358025100913\n",
      "7 0.20491531667979843\n",
      "8 0.0\n",
      "\n",
      "Finished\n",
      "0 inf\n",
      "1 0.8418068860193031\n",
      "2 0.5551271942093708\n",
      "3 0.5912563805200909\n",
      "4 0.4635102976748215\n",
      "5 0.4227912715593227\n",
      "6 0.3714005190487578\n",
      "7 0.0\n",
      "\n",
      "Finished\n",
      "0 inf\n",
      "1 0.9090909090909091\n",
      "2 0.7255043698568927\n",
      "3 0.6667473627635812\n",
      "4 0.5374381046096466\n",
      "5 0.43739140462941345\n",
      "6 0.33248764697788624\n",
      "7 0.33248764697788624\n",
      "8 0.0\n",
      "\n",
      "Finished\n",
      "0 inf\n",
      "1 0.9090909090909091\n",
      "2 0.8408937453891585\n",
      "3 0.8278480613398902\n",
      "4 0.5303512452518183\n",
      "5 0.4771992170734882\n",
      "6 0.42701105994720756\n",
      "7 0.10108664039670112\n",
      "8 0.0\n",
      "\n",
      "Finished\n",
      "0 inf\n",
      "1 0.9\n",
      "2 0.49571964086282194\n",
      "3 0.285110326436045\n",
      "4 0.2299700701514364\n",
      "5 0.1936764962595926\n",
      "6 0.13510100102159578\n",
      "7 0.11358466797415068\n",
      "8 0.0\n",
      "\n",
      "Finished\n",
      "0 inf\n",
      "1 0.7551734018847506\n",
      "2 0.6512817778195938\n",
      "3 0.421255683374924\n",
      "4 0.2691348271510481\n",
      "5 0.23348634223258438\n",
      "6 0.0\n",
      "\n",
      "Finished\n",
      "0 inf\n",
      "1 0.9090909090909091\n",
      "2 0.5606490767931085\n",
      "3 0.5136551182397788\n",
      "4 0.49505164848765326\n",
      "5 0.10435886900100577\n",
      "6 0.09884346333857663\n",
      "7 0.09448836935923649\n",
      "8 0.0\n",
      "\n",
      "Finished\n",
      "0 inf\n",
      "1 0.9090909090909091\n",
      "2 0.7085552817143626\n",
      "3 0.38847366174308556\n",
      "4 0.3597266363757061\n",
      "5 0.3352233604128721\n",
      "6 0.3244573161507647\n",
      "7 0.19407642025702915\n",
      "8 0.08287972665093313\n",
      "9 0.0\n",
      "\n",
      "Finished\n",
      "0 inf\n",
      "1 0.9090909090909091\n",
      "2 0.6208885872871266\n",
      "3 0.4625000849290951\n",
      "4 0.42613272076520115\n",
      "5 0.2876359316258661\n",
      "6 0.17539764851252854\n",
      "7 0.16563278273768775\n",
      "8 0.0\n",
      "\n",
      "Finished\n",
      "0 inf\n",
      "1 0.7694505618180888\n",
      "2 0.5645404036624924\n",
      "3 0.5260931842009877\n",
      "4 0.40719997131507996\n",
      "5 0.24470329047570344\n",
      "6 0.13272167261936035\n",
      "7 0.1033682571847705\n",
      "8 0.09921513573527141\n",
      "9 0.0\n",
      "\n",
      "Finished\n",
      "0 inf\n",
      "1 0.9\n",
      "2 0.44205102426219056\n",
      "3 0.3496481614976943\n"
     ]
    },
    {
     "name": "stdout",
     "output_type": "stream",
     "text": [
      "4 0.4851254760862802\n",
      "5 0.4027789153570699\n",
      "6 0.15977854614467701\n",
      "7 0.09345270984994036\n",
      "8 0.0\n",
      "\n",
      "Finished\n",
      "0 inf\n",
      "1 0.9090909090909091\n",
      "2 0.6011223252183613\n",
      "3 0.579758681924888\n",
      "4 0.5608622300809127\n",
      "5 0.2197625011786762\n",
      "6 0.022171415668488903\n",
      "7 0.018175149368044208\n",
      "8 0.015294848803784178\n",
      "9 0.0\n",
      "\n",
      "Finished\n",
      "0 inf\n",
      "1 0.9\n",
      "2 0.6503641874465766\n",
      "3 0.3734291923655084\n",
      "4 0.3412362289820796\n",
      "5 0.3648428076972042\n",
      "6 0.33193515288703723\n",
      "7 0.14260389500126858\n",
      "8 0.0\n",
      "\n",
      "Finished\n"
     ]
    }
   ],
   "source": [
    "all_marginals = []\n",
    "for obs in obs_all_df:\n",
    "    obs.sort_values(by=\"t\")\n",
    "    obs_sib = list(obs.to_records(index=False))\n",
    "    mu = params[\"mu\"]\n",
    "    sib_pars = sib.Params(prob_r=sib.Gamma(mu=mu))\n",
    "    fg = sib.FactorGraph(sib_pars, contacts_sib, obs_sib)\n",
    "\n",
    "    sib.iterate(fg,100,3e-6,callback=callback)\n",
    "    print(\"\\nFinished\")\n",
    "\n",
    "    beliefs = []\n",
    "    for n in fg.nodes:\n",
    "        res = (np.array(n.bt),np.array(n.bg))\n",
    "        beliefs.append(np.stack(res))\n",
    "    all_marginals.append(tuple(beliefs))\n",
    "    #print(beliefs[-1].shape)"
   ]
  },
  {
   "cell_type": "code",
   "execution_count": 65,
   "metadata": {
    "ExecuteTime": {
     "end_time": "2020-05-14T07:59:23.331176Z",
     "start_time": "2020-05-14T07:59:23.327366Z"
    }
   },
   "outputs": [],
   "source": [
    "margin_names = [f\"{inst}_{n}\"  for inst in range(n_inst) for n in range(params[\"n\"])]"
   ]
  },
  {
   "cell_type": "code",
   "execution_count": 66,
   "metadata": {
    "ExecuteTime": {
     "end_time": "2020-05-14T07:59:23.802736Z",
     "start_time": "2020-05-14T07:59:23.792802Z"
    }
   },
   "outputs": [],
   "source": [
    "dict_marg = {}\n",
    "for inst, margist in enumerate(all_marginals):\n",
    "    for n, marginals in enumerate(margist):\n",
    "        dict_marg[f\"{inst}_{n}\"] = marginals"
   ]
  },
  {
   "cell_type": "code",
   "execution_count": 67,
   "metadata": {
    "ExecuteTime": {
     "end_time": "2020-05-14T07:59:24.204729Z",
     "start_time": "2020-05-14T07:59:24.196351Z"
    }
   },
   "outputs": [
    {
     "data": {
      "text/plain": [
       "array([[ True,  True,  True,  True,  True,  True,  True,  True,  True,\n",
       "         True],\n",
       "       [ True,  True,  True,  True,  True,  True,  True,  True,  True,\n",
       "         True]])"
      ]
     },
     "execution_count": 67,
     "metadata": {},
     "output_type": "execute_result"
    }
   ],
   "source": [
    "dict_marg[\"2_3\"] == all_marginals[2][3]"
   ]
  },
  {
   "cell_type": "code",
   "execution_count": 68,
   "metadata": {
    "ExecuteTime": {
     "end_time": "2020-05-14T07:59:24.883355Z",
     "start_time": "2020-05-14T07:59:24.644124Z"
    }
   },
   "outputs": [],
   "source": [
    "np.savez(\"beliefs_tree\",**dict_marg)"
   ]
  },
  {
   "cell_type": "code",
   "execution_count": null,
   "metadata": {},
   "outputs": [],
   "source": []
  },
  {
   "cell_type": "code",
   "execution_count": 36,
   "metadata": {
    "ExecuteTime": {
     "end_time": "2020-05-14T07:54:17.337315Z",
     "start_time": "2020-05-14T07:54:17.332085Z"
    }
   },
   "outputs": [],
   "source": [
    "num_nodes = params[\"n\"]"
   ]
  },
  {
   "cell_type": "code",
   "execution_count": 37,
   "metadata": {
    "ExecuteTime": {
     "end_time": "2020-05-14T07:54:17.500787Z",
     "start_time": "2020-05-14T07:54:17.490655Z"
    }
   },
   "outputs": [],
   "source": [
    "\n",
    "def load_marginals(filename):\n",
    "    data = np.load(filename)\n",
    "    all_marg_load = []\n",
    "    for inst in range(n_inst):\n",
    "        margist = [data[f\"{inst}_{n}\"] for n in range(num_nodes)]\n",
    "        all_marg_load.append(margist)\n",
    "    return all_marg_load"
   ]
  },
  {
   "cell_type": "code",
   "execution_count": 38,
   "metadata": {
    "ExecuteTime": {
     "end_time": "2020-05-14T07:54:18.134551Z",
     "start_time": "2020-05-14T07:54:17.651954Z"
    }
   },
   "outputs": [],
   "source": [
    "all_marg_load = load_marginals(\"beliefs_tree.npz\")"
   ]
  },
  {
   "cell_type": "code",
   "execution_count": 39,
   "metadata": {
    "ExecuteTime": {
     "end_time": "2020-05-14T07:54:18.138703Z",
     "start_time": "2020-05-14T07:54:18.136024Z"
    }
   },
   "outputs": [
    {
     "data": {
      "text/plain": [
       "50"
      ]
     },
     "execution_count": 39,
     "metadata": {},
     "output_type": "execute_result"
    }
   ],
   "source": [
    "len(all_marg_load)"
   ]
  },
  {
   "cell_type": "code",
   "execution_count": 40,
   "metadata": {
    "ExecuteTime": {
     "end_time": "2020-05-14T07:54:18.446771Z",
     "start_time": "2020-05-14T07:54:18.441242Z"
    }
   },
   "outputs": [
    {
     "data": {
      "text/plain": [
       "31"
      ]
     },
     "execution_count": 40,
     "metadata": {},
     "output_type": "execute_result"
    }
   ],
   "source": [
    "len(all_marg_load[0])"
   ]
  },
  {
   "cell_type": "code",
   "execution_count": null,
   "metadata": {},
   "outputs": [],
   "source": []
  },
  {
   "cell_type": "code",
   "execution_count": null,
   "metadata": {},
   "outputs": [],
   "source": []
  },
  {
   "cell_type": "code",
   "execution_count": null,
   "metadata": {},
   "outputs": [],
   "source": []
  },
  {
   "cell_type": "code",
   "execution_count": null,
   "metadata": {},
   "outputs": [],
   "source": []
  }
 ],
 "metadata": {
  "@webio": {
   "lastCommId": null,
   "lastKernelId": null
  },
  "kernelspec": {
   "display_name": "Python 3",
   "language": "python",
   "name": "python3"
  },
  "language_info": {
   "codemirror_mode": {
    "name": "ipython",
    "version": 3
   },
   "file_extension": ".py",
   "mimetype": "text/x-python",
   "name": "python",
   "nbconvert_exporter": "python",
   "pygments_lexer": "ipython3",
   "version": "3.7.5"
  },
  "latex_envs": {
   "LaTeX_envs_menu_present": false,
   "autoclose": false,
   "autocomplete": false,
   "bibliofile": "biblio.bib",
   "cite_by": "apalike",
   "current_citInitial": 1,
   "eqLabelWithNumbers": true,
   "eqNumInitial": 1,
   "hotkeys": {
    "equation": "Ctrl-E",
    "itemize": "Ctrl-I"
   },
   "labels_anchors": false,
   "latex_user_defs": false,
   "report_style_numbering": false,
   "user_envs_cfg": false
  }
 },
 "nbformat": 4,
 "nbformat_minor": 4
}
