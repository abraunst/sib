{
 "cells": [
  {
   "cell_type": "code",
   "execution_count": null,
   "metadata": {},
   "outputs": [],
   "source": []
  },
  {
   "cell_type": "code",
   "execution_count": 1,
   "metadata": {},
   "outputs": [],
   "source": [
    "import sys\n",
    "sys.path.insert(0,'..')\n",
    "import sib\n",
    "import pandas as pd\n",
    "import numpy as np"
   ]
  },
  {
   "cell_type": "markdown",
   "metadata": {},
   "source": [
    "## Order of parameters\n",
    "\n",
    "### Contacts:\n",
    "\n",
    "in order: (i, j, t, lambda)\n",
    "\n",
    "### Observations:\n",
    "(i,s,t) which is in order:\n",
    "\n",
    "- node\n",
    "- state\n",
    "- time"
   ]
  },
  {
   "cell_type": "code",
   "execution_count": 2,
   "metadata": {},
   "outputs": [
    {
     "name": "stdout",
     "output_type": "stream",
     "text": [
      "Number of instances: 50\n"
     ]
    },
    {
     "data": {
      "text/plain": [
       "{'type_graph': 'TREE',\n",
       " 't_limit': 8,\n",
       " 'lambda': 0.9,\n",
       " 'mu': 0.3,\n",
       " 'seed': 3,\n",
       " 'n': 31,\n",
       " 'p_tested': 0.01,\n",
       " 'p_asymptomatic': 0.5,\n",
       " 'p_delay_symptoms': {'1': 0.7, '2': 0.30000000000000004}}"
      ]
     },
     "execution_count": 2,
     "metadata": {},
     "output_type": "execute_result"
    }
   ],
   "source": [
    "from pathlib import Path\n",
    "import data_load\n",
    "\n",
    "folder_data = Path(\"data_tree/\")\n",
    "\n",
    "params,contacts,observ,epidem = data_load.load_exported_data(folder_data)\n",
    "\n",
    "n_inst = len(observ)\n",
    "print(\"Number of instances: {}\".format(len(observ)))\n",
    "params"
   ]
  },
  {
   "cell_type": "code",
   "execution_count": 3,
   "metadata": {},
   "outputs": [],
   "source": [
    "contacts = contacts[[\"i\",\"j\",\"t\",\"lambda\"]]\n",
    "#contacts.iloc[:30]"
   ]
  },
  {
   "cell_type": "code",
   "execution_count": 4,
   "metadata": {},
   "outputs": [],
   "source": [
    "obs_all_df = []\n",
    "for obs in observ:\n",
    "    obs_df = data_load.convert_obs_to_df(obs)\n",
    "    obs_df = obs_df[[\"i\",\"st\",\"t\"]]\n",
    "    obs_all_df.append(obs_df)"
   ]
  },
  {
   "cell_type": "markdown",
   "metadata": {},
   "source": [
    "### Take one epidemic instance"
   ]
  },
  {
   "cell_type": "code",
   "execution_count": 8,
   "metadata": {},
   "outputs": [],
   "source": [
    "inst = 8"
   ]
  },
  {
   "cell_type": "code",
   "execution_count": 9,
   "metadata": {},
   "outputs": [
    {
     "name": "stdout",
     "output_type": "stream",
     "text": [
      "{'S': {'4': [27]}, 'I': {'2': [9], '3': [4], '4': [3, 19], '6': [2, 6, 7], '7': [5, 6, 16], '8': [12, 13]}, 'R': {}}\n"
     ]
    }
   ],
   "source": [
    "epi_i = epidem[inst]\n",
    "obs_dict = observ[inst]\n",
    "print(obs_dict)"
   ]
  },
  {
   "cell_type": "code",
   "execution_count": 39,
   "metadata": {},
   "outputs": [],
   "source": [
    "obs_df = obs_all_df[inst]"
   ]
  },
  {
   "cell_type": "code",
   "execution_count": 11,
   "metadata": {
    "collapsed": true,
    "jupyter": {
     "outputs_hidden": true
    }
   },
   "outputs": [
    {
     "name": "stdout",
     "output_type": "stream",
     "text": [
      "[[0 0 0 0 0 0 0 0 0 0 0 0 0 0 0 0 0 0 0 0 1 0 0 0 0 0 0 0 0 0 0]\n",
      " [0 0 0 0 0 0 0 0 0 1 0 0 0 0 0 0 0 0 0 0 1 0 0 0 0 0 0 0 0 0 0]\n",
      " [0 0 0 0 1 0 0 0 0 1 0 0 0 0 0 0 0 0 0 1 1 0 0 0 0 0 0 0 0 0 0]\n",
      " [0 1 0 0 1 0 0 0 0 1 1 0 0 0 0 0 0 0 0 1 1 0 0 0 0 0 0 0 0 0 0]\n",
      " [1 1 0 1 1 0 0 0 0 1 2 0 0 0 0 0 0 0 0 1 1 1 1 0 0 0 0 0 0 0 0]\n",
      " [2 1 1 1 1 0 0 1 1 1 2 0 0 0 0 0 0 0 0 1 1 2 2 0 0 0 0 0 0 0 0]\n",
      " [2 1 1 2 2 1 1 1 2 2 2 0 0 0 0 1 1 1 1 1 1 2 2 0 0 0 0 0 0 0 0]\n",
      " [2 1 1 2 2 1 1 1 2 2 2 1 1 1 1 1 1 2 1 1 1 2 2 0 0 0 0 0 0 0 0]\n",
      " [2 1 1 2 2 1 2 1 2 2 2 1 1 1 1 2 1 2 2 2 2 2 2 1 0 1 1 1 1 1 0]]\n"
     ]
    }
   ],
   "source": [
    "print(epi_i)"
   ]
  },
  {
   "cell_type": "code",
   "execution_count": 12,
   "metadata": {},
   "outputs": [
    {
     "name": "stdout",
     "output_type": "stream",
     "text": [
      "Source is  20\n"
     ]
    }
   ],
   "source": [
    "src = np.where(epi_i[0])[0][0]\n",
    "print(\"Source is \",src)"
   ]
  },
  {
   "cell_type": "markdown",
   "metadata": {},
   "source": [
    "### Setup sib"
   ]
  },
  {
   "cell_type": "code",
   "execution_count": 5,
   "metadata": {},
   "outputs": [],
   "source": [
    "def callback(t, err, f):\n",
    "    print(f\"{t:4d}, {err:3.2e}\", end=\"\\r\")"
   ]
  },
  {
   "cell_type": "code",
   "execution_count": 13,
   "metadata": {},
   "outputs": [],
   "source": [
    "contacts_sib = list(contacts.to_records(index=False))\n",
    "obs_sib = list(obs_df.to_records(index=False))"
   ]
  },
  {
   "cell_type": "code",
   "execution_count": 17,
   "metadata": {},
   "outputs": [],
   "source": [
    "mu = params[\"mu\"]\n",
    "sib_pars = sib.Params(prob_r=sib.Gamma(mu=mu))\n",
    "fg = sib.FactorGraph(sib_pars, contacts_sib, obs_sib)"
   ]
  },
  {
   "cell_type": "code",
   "execution_count": 18,
   "metadata": {},
   "outputs": [
    {
     "name": "stdout",
     "output_type": "stream",
     "text": [
      "   9, 0.00e+00\r"
     ]
    }
   ],
   "source": [
    "sib.iterate(fg,100,3e-6,callback=callback)"
   ]
  },
  {
   "cell_type": "code",
   "execution_count": 29,
   "metadata": {
    "collapsed": true,
    "jupyter": {
     "outputs_hidden": true
    }
   },
   "outputs": [
    {
     "name": "stdout",
     "output_type": "stream",
     "text": [
      "(2, 10)\n",
      "(2, 10)\n",
      "(2, 10)\n",
      "(2, 10)\n",
      "(2, 10)\n",
      "(2, 10)\n",
      "(2, 10)\n",
      "(2, 10)\n",
      "(2, 10)\n",
      "(2, 10)\n",
      "(2, 10)\n",
      "(2, 10)\n",
      "(2, 11)\n",
      "(2, 11)\n",
      "(2, 10)\n",
      "(2, 10)\n",
      "(2, 10)\n",
      "(2, 10)\n",
      "(2, 10)\n",
      "(2, 10)\n",
      "(2, 10)\n",
      "(2, 10)\n",
      "(2, 10)\n",
      "(2, 10)\n",
      "(2, 10)\n",
      "(2, 10)\n",
      "(2, 10)\n",
      "(2, 10)\n",
      "(2, 10)\n",
      "(2, 10)\n",
      "(2, 10)\n"
     ]
    }
   ],
   "source": [
    "beliefs = []\n",
    "for n in fg.nodes:\n",
    "    res = (np.array(n.bt),np.array(n.bg))\n",
    "    beliefs.append(np.stack(res))\n",
    "    #print(beliefs[-1].shape)"
   ]
  },
  {
   "cell_type": "code",
   "execution_count": 30,
   "metadata": {},
   "outputs": [],
   "source": [
    "names = [str(i) for i in range(len(fg.nodes))]"
   ]
  },
  {
   "cell_type": "code",
   "execution_count": 32,
   "metadata": {},
   "outputs": [],
   "source": [
    "np.savez(f\"beliefs_inst_{inst}\",**dict(zip(names,beliefs)))"
   ]
  },
  {
   "cell_type": "code",
   "execution_count": 33,
   "metadata": {},
   "outputs": [],
   "source": [
    "data = np.load(\"beliefs_inst_8.npz\")"
   ]
  },
  {
   "cell_type": "code",
   "execution_count": 34,
   "metadata": {},
   "outputs": [
    {
     "data": {
      "text/plain": [
       "['0',\n",
       " '1',\n",
       " '2',\n",
       " '3',\n",
       " '4',\n",
       " '5',\n",
       " '6',\n",
       " '7',\n",
       " '8',\n",
       " '9',\n",
       " '10',\n",
       " '11',\n",
       " '12',\n",
       " '13',\n",
       " '14',\n",
       " '15',\n",
       " '16',\n",
       " '17',\n",
       " '18',\n",
       " '19',\n",
       " '20',\n",
       " '21',\n",
       " '22',\n",
       " '23',\n",
       " '24',\n",
       " '25',\n",
       " '26',\n",
       " '27',\n",
       " '28',\n",
       " '29',\n",
       " '30']"
      ]
     },
     "execution_count": 34,
     "metadata": {},
     "output_type": "execute_result"
    }
   ],
   "source": [
    "data.files"
   ]
  },
  {
   "cell_type": "markdown",
   "metadata": {},
   "source": [
    "## Batch processing"
   ]
  },
  {
   "cell_type": "code",
   "execution_count": 6,
   "metadata": {},
   "outputs": [],
   "source": [
    "contacts_sib = list(contacts.to_records(index=False))\n",
    "names = [str(i) for i in range(params[\"n\"])]"
   ]
  },
  {
   "cell_type": "code",
   "execution_count": 7,
   "metadata": {},
   "outputs": [
    {
     "name": "stdout",
     "output_type": "stream",
     "text": [
      "   9, 0.00e+00\n",
      "Finished\n",
      "   8, 0.00e+00\n",
      "Finished\n",
      "   9, 0.00e+00\n",
      "Finished\n",
      "   9, 0.00e+00\n",
      "Finished\n",
      "   9, 0.00e+00\n",
      "Finished\n",
      "   9, 0.00e+00\n",
      "Finished\n",
      "   9, 0.00e+00\n",
      "Finished\n",
      "   9, 0.00e+00\n",
      "Finished\n",
      "   9, 0.00e+00\n",
      "Finished\n",
      "   9, 0.00e+00\n",
      "Finished\n",
      "   9, 0.00e+00\n",
      "Finished\n",
      "   9, 0.00e+00\n",
      "Finished\n",
      "   9, 0.00e+00\n",
      "Finished\n",
      "   9, 0.00e+00\n",
      "Finished\n",
      "   9, 0.00e+00\n",
      "Finished\n",
      "   9, 0.00e+00\n",
      "Finished\n",
      "   9, 0.00e+00\n",
      "Finished\n",
      "   9, 0.00e+00\n",
      "Finished\n",
      "   8, 0.00e+00\n",
      "Finished\n",
      "   9, 0.00e+00\n",
      "Finished\n",
      "   9, 0.00e+00\n",
      "Finished\n",
      "   9, 0.00e+00\n",
      "Finished\n",
      "   9, 0.00e+00\n",
      "Finished\n",
      "   9, 0.00e+00\n",
      "Finished\n",
      "   9, 0.00e+00\n",
      "Finished\n",
      "   9, 0.00e+00\n",
      "Finished\n",
      "   9, 0.00e+00\n",
      "Finished\n",
      "   9, 0.00e+00\n",
      "Finished\n",
      "   9, 0.00e+00\n",
      "Finished\n",
      "   9, 0.00e+00\n",
      "Finished\n",
      "   9, 0.00e+00\n",
      "Finished\n",
      "   9, 0.00e+00\n",
      "Finished\n",
      "   9, 0.00e+00\n",
      "Finished\n",
      "   9, 0.00e+00\n",
      "Finished\n",
      "   9, 0.00e+00\n",
      "Finished\n",
      "   9, 0.00e+00\n",
      "Finished\n",
      "   9, 0.00e+00\n",
      "Finished\n",
      "   8, 0.00e+00\n",
      "Finished\n",
      "   9, 0.00e+00\n",
      "Finished\n",
      "   9, 0.00e+00\n",
      "Finished\n",
      "   9, 0.00e+00\n",
      "Finished\n",
      "   9, 0.00e+00\n",
      "Finished\n",
      "   9, 0.00e+00\n",
      "Finished\n",
      "   9, 0.00e+00\n",
      "Finished\n",
      "   9, 0.00e+00\n",
      "Finished\n",
      "   9, 0.00e+00\n",
      "Finished\n",
      "   9, 0.00e+00\n",
      "Finished\n",
      "   9, 0.00e+00\n",
      "Finished\n",
      "   9, 0.00e+00\n",
      "Finished\n",
      "   9, 0.00e+00\n",
      "Finished\n"
     ]
    }
   ],
   "source": [
    "all_marginals = []\n",
    "for obs in obs_all_df:\n",
    "\n",
    "    obs_sib = list(obs.to_records(index=False))\n",
    "    mu = params[\"mu\"]\n",
    "    sib_pars = sib.Params(prob_r=sib.Gamma(mu=mu))\n",
    "    fg = sib.FactorGraph(sib_pars, contacts_sib, obs_sib)\n",
    "\n",
    "    sib.iterate(fg,100,3e-6,callback=callback)\n",
    "    print(\"\\nFinished\")\n",
    "\n",
    "    beliefs = []\n",
    "    for n in fg.nodes:\n",
    "        res = (np.array(n.bt),np.array(n.bg))\n",
    "        beliefs.append(np.stack(res))\n",
    "    all_marginals.append(tuple(beliefs))\n",
    "    #print(beliefs[-1].shape)"
   ]
  },
  {
   "cell_type": "code",
   "execution_count": 8,
   "metadata": {},
   "outputs": [],
   "source": [
    "margin_names = [f\"{inst}_{n}\"  for inst in range(n_inst) for n in range(params[\"n\"])]"
   ]
  },
  {
   "cell_type": "code",
   "execution_count": 9,
   "metadata": {},
   "outputs": [],
   "source": [
    "dict_marg = {}\n",
    "for inst, margist in enumerate(all_marginals):\n",
    "    for n, marginals in enumerate(margist):\n",
    "        dict_marg[f\"{inst}_{n}\"] = marginals"
   ]
  },
  {
   "cell_type": "code",
   "execution_count": 10,
   "metadata": {},
   "outputs": [
    {
     "data": {
      "text/plain": [
       "array([[ True,  True,  True,  True,  True,  True,  True,  True,  True,\n",
       "         True],\n",
       "       [ True,  True,  True,  True,  True,  True,  True,  True,  True,\n",
       "         True]])"
      ]
     },
     "execution_count": 10,
     "metadata": {},
     "output_type": "execute_result"
    }
   ],
   "source": [
    "dict_marg[\"2_3\"] == all_marginals[2][3]"
   ]
  },
  {
   "cell_type": "code",
   "execution_count": 11,
   "metadata": {},
   "outputs": [],
   "source": [
    "np.savez(\"beliefs_tree\",**dict_marg)"
   ]
  },
  {
   "cell_type": "code",
   "execution_count": null,
   "metadata": {},
   "outputs": [],
   "source": []
  },
  {
   "cell_type": "code",
   "execution_count": 26,
   "metadata": {},
   "outputs": [],
   "source": [
    "num_nodes = params[\"n\"]"
   ]
  },
  {
   "cell_type": "code",
   "execution_count": 32,
   "metadata": {},
   "outputs": [],
   "source": [
    "\n",
    "def load_marginals(filename):\n",
    "    data = np.load(filename)\n",
    "    all_marg_load = []\n",
    "    for inst in range(n_inst):\n",
    "        margist = [data[f\"{inst}_{n}\"] for n in range(num_nodes)]\n",
    "        all_marg_load.append(margist)\n",
    "    return all_marg_load"
   ]
  },
  {
   "cell_type": "code",
   "execution_count": 33,
   "metadata": {},
   "outputs": [],
   "source": [
    "all_marg_load = load_marginals(\"beliefs_tree.npz\")"
   ]
  },
  {
   "cell_type": "code",
   "execution_count": 34,
   "metadata": {},
   "outputs": [
    {
     "data": {
      "text/plain": [
       "50"
      ]
     },
     "execution_count": 34,
     "metadata": {},
     "output_type": "execute_result"
    }
   ],
   "source": [
    "len(all_marg_load)"
   ]
  },
  {
   "cell_type": "code",
   "execution_count": 35,
   "metadata": {},
   "outputs": [
    {
     "data": {
      "text/plain": [
       "31"
      ]
     },
     "execution_count": 35,
     "metadata": {},
     "output_type": "execute_result"
    }
   ],
   "source": [
    "len(all_marg_load[0])"
   ]
  },
  {
   "cell_type": "code",
   "execution_count": null,
   "metadata": {},
   "outputs": [],
   "source": []
  }
 ],
 "metadata": {
  "kernelspec": {
   "display_name": "Python 3.7.6 64-bit ('oldpy': conda)",
   "language": "python",
   "name": "python37664bitoldpyconda9507dd5c9e4847bf95d949afc4582418"
  },
  "language_info": {
   "codemirror_mode": {
    "name": "ipython",
    "version": 3
   },
   "file_extension": ".py",
   "mimetype": "text/x-python",
   "name": "python",
   "nbconvert_exporter": "python",
   "pygments_lexer": "ipython3",
   "version": "3.7.6"
  }
 },
 "nbformat": 4,
 "nbformat_minor": 4
}
