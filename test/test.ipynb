{
 "cells": [
  {
   "cell_type": "code",
   "execution_count": 1,
   "metadata": {
    "ExecuteTime": {
     "end_time": "2020-05-04T12:27:39.454061Z",
     "start_time": "2020-05-04T12:27:39.299601Z"
    }
   },
   "outputs": [],
   "source": [
    "import sys\n",
    "sys.path.insert(0,'..')\n",
    "import sib\n",
    "import pandas as pd\n",
    "import numpy as np"
   ]
  },
  {
   "cell_type": "markdown",
   "metadata": {},
   "source": [
    "## Order of parameters\n",
    "\n",
    "### Contacts:\n",
    "\n",
    "in order: (i, j, t, lambda)\n",
    "\n",
    "### Observations:\n",
    "(i,s,t) which is in order:\n",
    "\n",
    "- node\n",
    "- state\n",
    "- time"
   ]
  },
  {
   "cell_type": "code",
   "execution_count": 2,
   "metadata": {
    "ExecuteTime": {
     "end_time": "2020-05-04T12:27:40.056952Z",
     "start_time": "2020-05-04T12:27:40.050218Z"
    }
   },
   "outputs": [],
   "source": [
    "#name_folder_data = \"ProximityModel/\"\n",
    "name_folder_data = \"dummy/\"\n",
    "#root_folder_data = \"../sibilla/notebooks/data/\"\n",
    "root_folder_data = \"./data/\"\n",
    "folder_data = root_folder_data + name_folder_data"
   ]
  },
  {
   "cell_type": "code",
   "execution_count": 3,
   "metadata": {
    "ExecuteTime": {
     "end_time": "2020-05-04T12:27:40.235593Z",
     "start_time": "2020-05-04T12:27:40.223255Z"
    }
   },
   "outputs": [],
   "source": [
    "file_contacts_name = folder_data +  \"transmissions.csv\"\n",
    "contacts_df = pd.read_csv(file_contacts_name, dtype={\n",
    "                                         \"i\":np.int,\n",
    "                                        \"j\":np.int,\n",
    "                                        \"lamb\":np.float,\n",
    "                                        \"t\":np.int\n",
    "                                                })"
   ]
  },
  {
   "cell_type": "code",
   "execution_count": 4,
   "metadata": {
    "ExecuteTime": {
     "end_time": "2020-05-04T12:27:40.697271Z",
     "start_time": "2020-05-04T12:27:40.673990Z"
    }
   },
   "outputs": [
    {
     "data": {
      "text/html": [
       "<div>\n",
       "<style scoped>\n",
       "    .dataframe tbody tr th:only-of-type {\n",
       "        vertical-align: middle;\n",
       "    }\n",
       "\n",
       "    .dataframe tbody tr th {\n",
       "        vertical-align: top;\n",
       "    }\n",
       "\n",
       "    .dataframe thead th {\n",
       "        text-align: right;\n",
       "    }\n",
       "</style>\n",
       "<table border=\"1\" class=\"dataframe\">\n",
       "  <thead>\n",
       "    <tr style=\"text-align: right;\">\n",
       "      <th></th>\n",
       "      <th>i</th>\n",
       "      <th>j</th>\n",
       "      <th>lambda</th>\n",
       "      <th>t</th>\n",
       "    </tr>\n",
       "  </thead>\n",
       "  <tbody>\n",
       "    <tr>\n",
       "      <th>0</th>\n",
       "      <td>2</td>\n",
       "      <td>3</td>\n",
       "      <td>0.02</td>\n",
       "      <td>0</td>\n",
       "    </tr>\n",
       "    <tr>\n",
       "      <th>1</th>\n",
       "      <td>2</td>\n",
       "      <td>3</td>\n",
       "      <td>0.02</td>\n",
       "      <td>0</td>\n",
       "    </tr>\n",
       "    <tr>\n",
       "      <th>2</th>\n",
       "      <td>1</td>\n",
       "      <td>2</td>\n",
       "      <td>0.02</td>\n",
       "      <td>0</td>\n",
       "    </tr>\n",
       "    <tr>\n",
       "      <th>3</th>\n",
       "      <td>2</td>\n",
       "      <td>1</td>\n",
       "      <td>0.02</td>\n",
       "      <td>1</td>\n",
       "    </tr>\n",
       "    <tr>\n",
       "      <th>4</th>\n",
       "      <td>1</td>\n",
       "      <td>2</td>\n",
       "      <td>0.02</td>\n",
       "      <td>1</td>\n",
       "    </tr>\n",
       "    <tr>\n",
       "      <th>5</th>\n",
       "      <td>0</td>\n",
       "      <td>1</td>\n",
       "      <td>0.02</td>\n",
       "      <td>3</td>\n",
       "    </tr>\n",
       "  </tbody>\n",
       "</table>\n",
       "</div>"
      ],
      "text/plain": [
       "   i  j  lambda  t\n",
       "0  2  3    0.02  0\n",
       "1  2  3    0.02  0\n",
       "2  1  2    0.02  0\n",
       "3  2  1    0.02  1\n",
       "4  1  2    0.02  1\n",
       "5  0  1    0.02  3"
      ]
     },
     "execution_count": 4,
     "metadata": {},
     "output_type": "execute_result"
    }
   ],
   "source": [
    "contacts_df"
   ]
  },
  {
   "cell_type": "code",
   "execution_count": 5,
   "metadata": {
    "ExecuteTime": {
     "end_time": "2020-05-04T12:27:41.063474Z",
     "start_time": "2020-05-04T12:27:41.039643Z"
    }
   },
   "outputs": [
    {
     "name": "stdout",
     "output_type": "stream",
     "text": [
      "number of unique contacts: 4\n"
     ]
    }
   ],
   "source": [
    "# set the correct order!\n",
    "contacts_df = contacts_df[[\"i\", \"j\",\"t\", \"lambda\"]] \n",
    "\n",
    "#removing symmetric contacts\n",
    "d = {'i':'j','j':'i'}\n",
    "contacts_df = pd.concat([contacts_df, contacts_df.rename(columns=d)]).drop_duplicates()\n",
    "contacts_df = contacts_df.sort_values(\"t\")\n",
    "contacts_df = contacts_df[contacts_df[\"i\"] < contacts_df[\"j\"]]\n",
    "\n",
    "# time must start from zero\n",
    "assert(contacts_df[\"t\"].iloc[0] == 0)\n",
    "\n",
    "contacts = list(contacts_df.to_records(index=False))\n",
    "\n",
    "tot_contacts = len(contacts);\n",
    "print(f\"number of unique contacts: {tot_contacts}\")"
   ]
  },
  {
   "cell_type": "code",
   "execution_count": 6,
   "metadata": {
    "ExecuteTime": {
     "end_time": "2020-05-04T12:27:41.551099Z",
     "start_time": "2020-05-04T12:27:41.535905Z"
    }
   },
   "outputs": [
    {
     "name": "stdout",
     "output_type": "stream",
     "text": [
      "number of observartions 2\n"
     ]
    }
   ],
   "source": [
    "file_obs_name = folder_data +  \"observations.csv\"\n",
    "obs_df = pd.read_csv(file_obs_name,\n",
    "                    dtype={\"s\":np.int,\n",
    "                           \"i\":np.int,\n",
    "                           \"t_test\":np.int})\n",
    "obs = obs_df[[\"i\",\"s\",\"t_test\"]]\n",
    "observations = list(obs.to_records(index=False))\n",
    "tot_obs = len(observations)\n",
    "print(f\"number of observartions {tot_obs}\")"
   ]
  },
  {
   "cell_type": "code",
   "execution_count": 7,
   "metadata": {
    "ExecuteTime": {
     "end_time": "2020-05-04T12:27:42.110870Z",
     "start_time": "2020-05-04T12:27:42.100467Z"
    }
   },
   "outputs": [
    {
     "data": {
      "text/plain": [
       "[(1, 1, 1), (2, 1, 2)]"
      ]
     },
     "execution_count": 7,
     "metadata": {},
     "output_type": "execute_result"
    }
   ],
   "source": [
    "observations"
   ]
  },
  {
   "cell_type": "code",
   "execution_count": 16,
   "metadata": {
    "ExecuteTime": {
     "end_time": "2020-05-04T12:29:08.350223Z",
     "start_time": "2020-05-04T12:29:08.345618Z"
    }
   },
   "outputs": [],
   "source": [
    "import math"
   ]
  },
  {
   "cell_type": "code",
   "execution_count": 19,
   "metadata": {
    "ExecuteTime": {
     "end_time": "2020-05-04T12:35:27.267709Z",
     "start_time": "2020-05-04T12:35:27.261346Z"
    }
   },
   "outputs": [
    {
     "data": {
      "text/plain": [
       "Params(prob_i=Uniform(1),prob_r=PriorDiscrete(1,0.606531,0.367879,0.22313,0.135335,0.082085,0.0497871,0.0301974,0.0183156,0.011109,0.00673795,0.00408677,0.00247875,0.00150344,0.000911882,0.000553084,0.000335463,0.000203468,0.00012341,7.48518e-05,4.53999e-05,2.75364e-05,1.67017e-05,1.01301e-05,6.14421e-06,3.72665e-06,2.26033e-06,1.37096e-06,8.31529e-07,5.04348e-07,3.05902e-07,1.85539e-07,1.12535e-07,6.8256e-08,4.13994e-08,2.511e-08,1.523e-08,9.23745e-09,5.6028e-09,3.39827e-09,2.06115e-09,1.25015e-09,7.58256e-10,4.59906e-10,2.78947e-10,1.6919e-10,1.02619e-10,6.22414e-11,3.77513e-11,2.28973e-11),pseed=0.01,psus=0.5)"
      ]
     },
     "execution_count": 19,
     "metadata": {},
     "output_type": "execute_result"
    }
   ],
   "source": [
    "mu=0.5;\n",
    "params = sib.Params(prob_r=sib.PriorDiscrete(sib.VectorReal([math.exp(-mu*x) for x in range(50)])), pseed=0.01)\n",
    "params"
   ]
  },
  {
   "cell_type": "code",
   "execution_count": 32,
   "metadata": {
    "ExecuteTime": {
     "end_time": "2020-05-04T12:38:42.674828Z",
     "start_time": "2020-05-04T12:38:42.671194Z"
    }
   },
   "outputs": [
    {
     "data": {
      "text/plain": [
       "Uniform(1)"
      ]
     },
     "execution_count": 32,
     "metadata": {},
     "output_type": "execute_result"
    }
   ],
   "source": [
    "f.nodes[0].prob_i"
   ]
  },
  {
   "cell_type": "code",
   "execution_count": 28,
   "metadata": {
    "ExecuteTime": {
     "end_time": "2020-05-04T12:38:16.075201Z",
     "start_time": "2020-05-04T12:38:16.072565Z"
    }
   },
   "outputs": [
    {
     "data": {
      "text/plain": [
       "PriorDiscrete(1,0.606531,0.367879,0.22313,0.135335,0.082085,0.0497871,0.0301974,0.0183156,0.011109,0.00673795,0.00408677,0.00247875,0.00150344,0.000911882,0.000553084,0.000335463,0.000203468,0.00012341,7.48518e-05,4.53999e-05,2.75364e-05,1.67017e-05,1.01301e-05,6.14421e-06,3.72665e-06,2.26033e-06,1.37096e-06,8.31529e-07,5.04348e-07,3.05902e-07,1.85539e-07,1.12535e-07,6.8256e-08,4.13994e-08,2.511e-08,1.523e-08,9.23745e-09,5.6028e-09,3.39827e-09,2.06115e-09,1.25015e-09,7.58256e-10,4.59906e-10,2.78947e-10,1.6919e-10,1.02619e-10,6.22414e-11,3.77513e-11,2.28973e-11)"
      ]
     },
     "execution_count": 28,
     "metadata": {},
     "output_type": "execute_result"
    }
   ],
   "source": [
    "n.prob_r"
   ]
  },
  {
   "cell_type": "code",
   "execution_count": 20,
   "metadata": {
    "ExecuteTime": {
     "end_time": "2020-05-04T12:35:33.147627Z",
     "start_time": "2020-05-04T12:35:33.145394Z"
    }
   },
   "outputs": [],
   "source": [
    "f = sib.FactorGraph(contacts=contacts, observations=observations, params=params)"
   ]
  },
  {
   "cell_type": "code",
   "execution_count": 21,
   "metadata": {
    "ExecuteTime": {
     "end_time": "2020-05-04T12:35:33.788601Z",
     "start_time": "2020-05-04T12:35:33.780991Z"
    }
   },
   "outputs": [],
   "source": [
    "def callback(t,err,f):\n",
    "    print(t,err,end=\"\\r\")"
   ]
  },
  {
   "cell_type": "code",
   "execution_count": 22,
   "metadata": {
    "ExecuteTime": {
     "end_time": "2020-05-04T12:35:34.670421Z",
     "start_time": "2020-05-04T12:35:34.615588Z"
    }
   },
   "outputs": [
    {
     "name": "stdout",
     "output_type": "stream",
     "text": [
      "0 inf\r",
      "1 inf\r",
      "2 inf\r",
      "3 inf\r",
      "4 inf\r",
      "5 inf\r",
      "6 inf\r",
      "7 inf\r",
      "8 inf\r",
      "9 inf\r",
      "10 inf\r",
      "11 inf\r",
      "12 inf\r",
      "13 inf\r",
      "14 inf\r",
      "15 inf\r",
      "16 inf\r",
      "17 inf\r",
      "18 inf\r",
      "19 inf\r",
      "20 inf\r",
      "21 inf\r",
      "22 inf\r",
      "23 inf\r",
      "24 inf\r",
      "25 inf\r",
      "26 inf\r",
      "27 inf\r",
      "28 inf\r",
      "29 inf\r",
      "30 inf\r",
      "31 inf\r",
      "32 inf\r",
      "33 inf\r",
      "34 inf\r",
      "35 inf\r",
      "36 inf\r",
      "37 inf\r",
      "38 inf\r",
      "39 inf\r",
      "40 inf\r",
      "41 inf\r",
      "42 inf\r",
      "43 inf\r",
      "44 inf\r",
      "45 inf\r",
      "46 inf\r",
      "47 inf\r",
      "48 inf\r",
      "49 inf\r",
      "50 inf\r",
      "51 inf\r",
      "52 inf\r",
      "53 inf\r",
      "54 inf\r",
      "55 inf\r",
      "56 inf\r",
      "57 inf\r",
      "58 inf\r",
      "59 inf\r",
      "60 inf\r",
      "61 inf\r",
      "62 inf\r",
      "63 inf\r",
      "64 inf\r",
      "65 inf\r",
      "66 inf\r",
      "67 inf\r",
      "68 inf\r",
      "69 inf\r",
      "70 inf\r",
      "71 inf\r",
      "72 inf\r",
      "73 inf\r",
      "74 inf\r",
      "75 inf\r",
      "76 inf\r",
      "77 inf\r",
      "78 inf\r",
      "79 inf\r",
      "80 inf\r",
      "81 inf\r",
      "82 inf\r",
      "83 inf\r",
      "84 inf\r",
      "85 inf\r",
      "86 inf\r",
      "87 inf\r",
      "88 inf\r",
      "89 inf\r",
      "90 inf\r",
      "91 inf\r",
      "92 inf\r",
      "93 inf\r",
      "94 inf\r",
      "95 inf\r",
      "96 inf\r",
      "97 inf\r",
      "98 inf\r",
      "99 inf\r"
     ]
    }
   ],
   "source": [
    "sib.iterate(f, maxit=100,tol=1e-5,callback=callback)"
   ]
  },
  {
   "cell_type": "code",
   "execution_count": 12,
   "metadata": {
    "ExecuteTime": {
     "end_time": "2020-05-04T12:27:49.681708Z",
     "start_time": "2020-05-04T12:27:49.678244Z"
    }
   },
   "outputs": [
    {
     "data": {
      "text/plain": [
       "[(0.6929678399733201, 0.3070321600266799, 0.0),\n",
       " (0.360300828429807, 0.639699171570193, 0.0),\n",
       " (0.0, 1.0, 0.0)]"
      ]
     },
     "execution_count": 12,
     "metadata": {},
     "output_type": "execute_result"
    }
   ],
   "source": [
    "sib.marginal(f.nodes[0])"
   ]
  },
  {
   "cell_type": "code",
   "execution_count": null,
   "metadata": {},
   "outputs": [],
   "source": []
  }
 ],
 "metadata": {
  "@webio": {
   "lastCommId": null,
   "lastKernelId": null
  },
  "kernelspec": {
   "display_name": "Python 3",
   "language": "python",
   "name": "python3"
  },
  "language_info": {
   "codemirror_mode": {
    "name": "ipython",
    "version": 3
   },
   "file_extension": ".py",
   "mimetype": "text/x-python",
   "name": "python",
   "nbconvert_exporter": "python",
   "pygments_lexer": "ipython3",
   "version": "3.7.5"
  },
  "latex_envs": {
   "LaTeX_envs_menu_present": false,
   "autoclose": false,
   "autocomplete": false,
   "bibliofile": "biblio.bib",
   "cite_by": "apalike",
   "current_citInitial": 1,
   "eqLabelWithNumbers": true,
   "eqNumInitial": 1,
   "hotkeys": {
    "equation": "Ctrl-E",
    "itemize": "Ctrl-I"
   },
   "labels_anchors": false,
   "latex_user_defs": false,
   "report_style_numbering": false,
   "user_envs_cfg": false
  }
 },
 "nbformat": 4,
 "nbformat_minor": 4
}
