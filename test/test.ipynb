{
 "cells": [
  {
   "cell_type": "code",
   "execution_count": 3,
   "metadata": {},
   "outputs": [],
   "source": [
    "import sys\n",
    "sys.path.insert(0,'..')\n",
    "import sib\n",
    "import pandas as pd\n",
    "import numpy as np"
   ]
  },
  {
   "cell_type": "code",
   "execution_count": 11,
   "metadata": {},
   "outputs": [],
   "source": [
    "#name_folder_data = \"ProximityModel/\"\n",
    "name_folder_data = \"dummy/\"\n",
    "#root_folder_data = \"../sibilla/notebooks/data/\"\n",
    "root_folder_data = \"./data/\"\n",
    "folder_data = root_folder_data + name_folder_data"
   ]
  },
  {
   "cell_type": "code",
   "execution_count": 14,
   "metadata": {},
   "outputs": [
    {
     "name": "stdout",
     "output_type": "stream",
     "text": [
      "number of unique contacts: 4\n"
     ]
    }
   ],
   "source": [
    "file_contacts_name = folder_data +  \"transmissions.csv\"\n",
    "contacts_df = pd.read_csv(file_contacts_name, dtype={\n",
    "                                         \"i\":np.int,\n",
    "                                        \"j\":np.int,\n",
    "                                        \"lamb\":np.float,\n",
    "                                        \"t\":np.int\n",
    "                                                })\n",
    "# set the correct order!\n",
    "contacts_df = contacts_df[[\"i\", \"j\",\"t\", \"lamb\"]] \n",
    "\n",
    "#removing symmetric contacts\n",
    "d = {'i':'j','j':'i'}\n",
    "contacts_df = pd.concat([contacts_df, contacts_df.rename(columns=d)]).drop_duplicates()\n",
    "contacts_df = contacts_df.sort_values(\"t\")\n",
    "contacts_df = contacts_df[contacts_df[\"i\"] < contacts_df[\"j\"]]\n",
    "\n",
    "# time must start from zero\n",
    "assert(contacts_df[\"t\"].iloc[0] == 0)\n",
    "\n",
    "contacts = list(contacts_df.to_records(index=False))\n",
    "\n",
    "tot_contacts = len(contacts);\n",
    "print(f\"number of unique contacts: {tot_contacts}\")"
   ]
  },
  {
   "cell_type": "code",
   "execution_count": 16,
   "metadata": {},
   "outputs": [
    {
     "name": "stdout",
     "output_type": "stream",
     "text": [
      "number of observartions 22\n"
     ]
    }
   ],
   "source": [
    "file_obs_name = folder_data +  \"observations.csv\"\n",
    "obs_df = pd.read_csv(file_obs_name,\n",
    "                    dtype={\"s\":np.int,\n",
    "                           \"i\":np.int,\n",
    "                           \"t_test\":np.int})\n",
    "observations = list(obs_df.to_records(index=False))\n",
    "tot_obs = len(observations)\n",
    "print(f\"number of observartions {tot_obs}\")"
   ]
  },
  {
   "cell_type": "code",
   "execution_count": 17,
   "metadata": {},
   "outputs": [
    {
     "data": {
      "text/plain": [
       "sib.Params(mu=0.010000,pseed=0.010000,tol=0.000010,maxit=100)"
      ]
     },
     "execution_count": 17,
     "metadata": {},
     "output_type": "execute_result"
    }
   ],
   "source": [
    "params = sib.Params(mu=0.01, pseed=0.01)\n",
    "params"
   ]
  },
  {
   "cell_type": "code",
   "execution_count": 19,
   "metadata": {},
   "outputs": [],
   "source": [
    "f = sib.FactorGraph(contacts=contacts, observations=observations, params=params)"
   ]
  },
  {
   "cell_type": "code",
   "execution_count": 20,
   "metadata": {},
   "outputs": [
    {
     "name": "stdout",
     "output_type": "stream",
     "text": [
      "0 1.0\n",
      "1 0.971155237555409\n",
      "2 5.421010862427522e-20\n"
     ]
    }
   ],
   "source": [
    "sib.iterate(f, maxit=100)"
   ]
  },
  {
   "cell_type": "code",
   "execution_count": null,
   "metadata": {},
   "outputs": [],
   "source": []
  }
 ],
 "metadata": {
  "kernelspec": {
   "display_name": "Python 3",
   "language": "python",
   "name": "python3"
  },
  "language_info": {
   "codemirror_mode": {
    "name": "ipython",
    "version": 3
   },
   "file_extension": ".py",
   "mimetype": "text/x-python",
   "name": "python",
   "nbconvert_exporter": "python",
   "pygments_lexer": "ipython3",
   "version": "3.6.10"
  }
 },
 "nbformat": 4,
 "nbformat_minor": 4
}
