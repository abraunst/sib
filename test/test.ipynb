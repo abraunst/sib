{
 "cells": [
  {
   "cell_type": "code",
   "execution_count": 1,
   "metadata": {
    "ExecuteTime": {
     "end_time": "2020-05-07T20:34:07.757154Z",
     "start_time": "2020-05-07T20:34:07.570747Z"
    }
   },
   "outputs": [],
   "source": [
    "import sys\n",
    "sys.path.insert(0,'..')\n",
    "import sib\n",
    "import pandas as pd\n",
    "import numpy as np"
   ]
  },
  {
   "cell_type": "markdown",
   "metadata": {},
   "source": [
    "## Order of parameters\n",
    "\n",
    "### Contacts:\n",
    "\n",
    "in order: (i, j, t, lambda)\n",
    "\n",
    "### Observations:\n",
    "(i,s,t) which is in order:\n",
    "\n",
    "- node\n",
    "- state\n",
    "- time"
   ]
  },
  {
   "cell_type": "code",
   "execution_count": 2,
   "metadata": {
    "ExecuteTime": {
     "end_time": "2020-05-07T20:34:07.839328Z",
     "start_time": "2020-05-07T20:34:07.833821Z"
    }
   },
   "outputs": [],
   "source": [
    "#name_folder_data = \"ProximityModel/\"\n",
    "name_folder_data = \"dummy/\"\n",
    "#root_folder_data = \"../sibilla/notebooks/data/\"\n",
    "root_folder_data = \"./data/\"\n",
    "folder_data = root_folder_data + name_folder_data"
   ]
  },
  {
   "cell_type": "code",
   "execution_count": 3,
   "metadata": {
    "ExecuteTime": {
     "end_time": "2020-05-07T20:34:07.983769Z",
     "start_time": "2020-05-07T20:34:07.969022Z"
    }
   },
   "outputs": [],
   "source": [
    "file_contacts_name = folder_data +  \"transmissions.csv\"\n",
    "contacts_df = pd.read_csv(file_contacts_name, dtype={\n",
    "                                         \"i\":np.int,\n",
    "                                        \"j\":np.int,\n",
    "                                        \"lamb\":np.float,\n",
    "                                        \"t\":np.int\n",
    "                                                })"
   ]
  },
  {
   "cell_type": "code",
   "execution_count": 4,
   "metadata": {
    "ExecuteTime": {
     "end_time": "2020-05-07T20:34:08.118368Z",
     "start_time": "2020-05-07T20:34:08.098262Z"
    }
   },
   "outputs": [
    {
     "data": {
      "text/html": [
       "<div>\n",
       "<style scoped>\n",
       "    .dataframe tbody tr th:only-of-type {\n",
       "        vertical-align: middle;\n",
       "    }\n",
       "\n",
       "    .dataframe tbody tr th {\n",
       "        vertical-align: top;\n",
       "    }\n",
       "\n",
       "    .dataframe thead th {\n",
       "        text-align: right;\n",
       "    }\n",
       "</style>\n",
       "<table border=\"1\" class=\"dataframe\">\n",
       "  <thead>\n",
       "    <tr style=\"text-align: right;\">\n",
       "      <th></th>\n",
       "      <th>i</th>\n",
       "      <th>j</th>\n",
       "      <th>lambda</th>\n",
       "      <th>t</th>\n",
       "    </tr>\n",
       "  </thead>\n",
       "  <tbody>\n",
       "    <tr>\n",
       "      <th>0</th>\n",
       "      <td>2</td>\n",
       "      <td>3</td>\n",
       "      <td>0.02</td>\n",
       "      <td>0</td>\n",
       "    </tr>\n",
       "    <tr>\n",
       "      <th>1</th>\n",
       "      <td>2</td>\n",
       "      <td>3</td>\n",
       "      <td>0.02</td>\n",
       "      <td>0</td>\n",
       "    </tr>\n",
       "    <tr>\n",
       "      <th>2</th>\n",
       "      <td>1</td>\n",
       "      <td>2</td>\n",
       "      <td>0.02</td>\n",
       "      <td>0</td>\n",
       "    </tr>\n",
       "    <tr>\n",
       "      <th>3</th>\n",
       "      <td>2</td>\n",
       "      <td>1</td>\n",
       "      <td>0.02</td>\n",
       "      <td>1</td>\n",
       "    </tr>\n",
       "    <tr>\n",
       "      <th>4</th>\n",
       "      <td>1</td>\n",
       "      <td>2</td>\n",
       "      <td>0.02</td>\n",
       "      <td>1</td>\n",
       "    </tr>\n",
       "    <tr>\n",
       "      <th>5</th>\n",
       "      <td>0</td>\n",
       "      <td>1</td>\n",
       "      <td>0.02</td>\n",
       "      <td>3</td>\n",
       "    </tr>\n",
       "  </tbody>\n",
       "</table>\n",
       "</div>"
      ],
      "text/plain": [
       "   i  j  lambda  t\n",
       "0  2  3    0.02  0\n",
       "1  2  3    0.02  0\n",
       "2  1  2    0.02  0\n",
       "3  2  1    0.02  1\n",
       "4  1  2    0.02  1\n",
       "5  0  1    0.02  3"
      ]
     },
     "execution_count": 4,
     "metadata": {},
     "output_type": "execute_result"
    }
   ],
   "source": [
    "contacts_df"
   ]
  },
  {
   "cell_type": "code",
   "execution_count": 5,
   "metadata": {
    "ExecuteTime": {
     "end_time": "2020-05-07T20:34:08.244477Z",
     "start_time": "2020-05-07T20:34:08.226929Z"
    }
   },
   "outputs": [
    {
     "name": "stdout",
     "output_type": "stream",
     "text": [
      "number of unique contacts: 4\n"
     ]
    }
   ],
   "source": [
    "# set the correct order!\n",
    "contacts_df = contacts_df[[\"i\", \"j\",\"t\", \"lambda\"]] \n",
    "\n",
    "#removing symmetric contacts\n",
    "d = {'i':'j','j':'i'}\n",
    "contacts_df = pd.concat([contacts_df, contacts_df.rename(columns=d)]).drop_duplicates()\n",
    "contacts_df = contacts_df.sort_values(\"t\")\n",
    "contacts_df = contacts_df[contacts_df[\"i\"] < contacts_df[\"j\"]]\n",
    "\n",
    "# time must start from zero\n",
    "assert(contacts_df[\"t\"].iloc[0] == 0)\n",
    "\n",
    "contacts = list(contacts_df.to_records(index=False))\n",
    "\n",
    "tot_contacts = len(contacts);\n",
    "print(f\"number of unique contacts: {tot_contacts}\")"
   ]
  },
  {
   "cell_type": "code",
   "execution_count": 6,
   "metadata": {
    "ExecuteTime": {
     "end_time": "2020-05-07T20:34:08.362215Z",
     "start_time": "2020-05-07T20:34:08.352297Z"
    }
   },
   "outputs": [
    {
     "name": "stdout",
     "output_type": "stream",
     "text": [
      "number of observartions 2\n"
     ]
    }
   ],
   "source": [
    "file_obs_name = folder_data +  \"observations.csv\"\n",
    "obs_df = pd.read_csv(file_obs_name,\n",
    "                    dtype={\"s\":np.int,\n",
    "                           \"i\":np.int,\n",
    "                           \"t_test\":np.int})\n",
    "obs = obs_df[[\"i\",\"s\",\"t_test\"]]\n",
    "observations = list(obs.to_records(index=False))\n",
    "tot_obs = len(observations)\n",
    "print(f\"number of observartions {tot_obs}\")"
   ]
  },
  {
   "cell_type": "code",
   "execution_count": 7,
   "metadata": {
    "ExecuteTime": {
     "end_time": "2020-05-07T20:34:08.496148Z",
     "start_time": "2020-05-07T20:34:08.490640Z"
    }
   },
   "outputs": [
    {
     "data": {
      "text/plain": [
       "Params(prob_i=Uniform(1),prob_r=PriorDiscrete(1,0.606531,0.367879,0.22313,0.135335,0.082085,0.0497871,0.0301974,0.0183156,0.011109,0.00673795,0.00408677,0.00247875,0.00150344,0.000911882,0.000553084,0.000335463,0.000203468,0.00012341,7.48518e-05,4.53999e-05,2.75364e-05,1.67017e-05,1.01301e-05,6.14421e-06,3.72665e-06,2.26033e-06,1.37096e-06,8.31529e-07,5.04348e-07,3.05902e-07,1.85539e-07,1.12535e-07,6.8256e-08,4.13994e-08,2.511e-08,1.523e-08,9.23745e-09,5.6028e-09,3.39827e-09,2.06115e-09,1.25015e-09,7.58256e-10,4.59906e-10,2.78947e-10,1.6919e-10,1.02619e-10,6.22414e-11,3.77513e-11,2.28973e-11),pseed=0.01,psus=0.5)"
      ]
     },
     "execution_count": 7,
     "metadata": {},
     "output_type": "execute_result"
    }
   ],
   "source": [
    "import math\n",
    "mu=0.5;\n",
    "params = sib.Params(prob_r=sib.PriorDiscrete([math.exp(-mu*x) for x in range(50)]), pseed=0.01)\n",
    "params"
   ]
  },
  {
   "cell_type": "code",
   "execution_count": 8,
   "metadata": {
    "ExecuteTime": {
     "end_time": "2020-05-07T20:34:08.643985Z",
     "start_time": "2020-05-07T20:34:08.632619Z"
    }
   },
   "outputs": [],
   "source": [
    "f = sib.FactorGraph(contacts=contacts, observations=observations, params=params)"
   ]
  },
  {
   "cell_type": "code",
   "execution_count": 9,
   "metadata": {
    "ExecuteTime": {
     "end_time": "2020-05-07T20:34:08.754384Z",
     "start_time": "2020-05-07T20:34:08.749289Z"
    }
   },
   "outputs": [],
   "source": [
    "def callback(t,err,f):\n",
    "    print(t,err,end=\"\\r\")"
   ]
  },
  {
   "cell_type": "code",
   "execution_count": 10,
   "metadata": {
    "ExecuteTime": {
     "end_time": "2020-05-07T20:34:10.227323Z",
     "start_time": "2020-05-07T20:34:10.196443Z"
    }
   },
   "outputs": [
    {
     "name": "stdout",
     "output_type": "stream",
     "text": [
      "0 0.8\r",
      "1 0.48534265191225\r",
      "2 0.003412633159272205\r",
      "3 6.938893903907228e-18\r"
     ]
    }
   ],
   "source": [
    "sib.iterate(f, maxit=100,tol=1e-5,callback=callback)"
   ]
  },
  {
   "cell_type": "code",
   "execution_count": 11,
   "metadata": {
    "ExecuteTime": {
     "end_time": "2020-05-07T20:34:10.340921Z",
     "start_time": "2020-05-07T20:34:10.329122Z"
    }
   },
   "outputs": [
    {
     "data": {
      "text/plain": [
       "[(0.8087238295242778, 0.1912761704757222, 0.0),\n",
       " (0.49954871535690654, 0.5004512846430935, 0.0),\n",
       " (0.0, 1.0, 0.0)]"
      ]
     },
     "execution_count": 11,
     "metadata": {},
     "output_type": "execute_result"
    }
   ],
   "source": [
    "sib.marginal(f.nodes[0])"
   ]
  },
  {
   "cell_type": "code",
   "execution_count": 12,
   "metadata": {
    "ExecuteTime": {
     "end_time": "2020-05-07T20:34:10.958261Z",
     "start_time": "2020-05-07T20:34:10.946214Z"
    }
   },
   "outputs": [
    {
     "data": {
      "text/plain": [
       "[(2, 3, 0, 0.02), (1, 2, 0, 0.02), (1, 2, 1, 0.02), (0, 1, 3, 0.02)]"
      ]
     },
     "execution_count": 12,
     "metadata": {},
     "output_type": "execute_result"
    }
   ],
   "source": [
    "contacts"
   ]
  },
  {
   "cell_type": "code",
   "execution_count": 19,
   "metadata": {
    "ExecuteTime": {
     "end_time": "2020-05-07T20:34:27.902180Z",
     "start_time": "2020-05-07T20:34:27.829018Z"
    }
   },
   "outputs": [
    {
     "ename": "ValueError",
     "evalue": "time of contacts should be ordered",
     "output_type": "error",
     "traceback": [
      "\u001b[0;31m---------------------------------------------------------------------------\u001b[0m",
      "\u001b[0;31mValueError\u001b[0m                                Traceback (most recent call last)",
      "\u001b[0;32m<ipython-input-19-66beef181f40>\u001b[0m in \u001b[0;36m<module>\u001b[0;34m\u001b[0m\n\u001b[0;32m----> 1\u001b[0;31m \u001b[0mf\u001b[0m\u001b[0;34m.\u001b[0m\u001b[0mappend_contact\u001b[0m\u001b[0;34m(\u001b[0m\u001b[0;36m3\u001b[0m\u001b[0;34m,\u001b[0m\u001b[0;36m2\u001b[0m\u001b[0;34m,\u001b[0m\u001b[0;36m12\u001b[0m\u001b[0;34m,\u001b[0m\u001b[0;36m0.2\u001b[0m\u001b[0;34m)\u001b[0m\u001b[0;34m\u001b[0m\u001b[0;34m\u001b[0m\u001b[0m\n\u001b[0m",
      "\u001b[0;31mValueError\u001b[0m: time of contacts should be ordered"
     ]
    }
   ],
   "source": [
    "f.append_contact(3,2,12,0.2)"
   ]
  },
  {
   "cell_type": "code",
   "execution_count": 20,
   "metadata": {
    "ExecuteTime": {
     "end_time": "2020-05-07T20:34:30.261227Z",
     "start_time": "2020-05-07T20:34:30.241001Z"
    }
   },
   "outputs": [
    {
     "name": "stdout",
     "output_type": "stream",
     "text": [
      "0 0.0\n"
     ]
    }
   ],
   "source": [
    "sib.iterate(f)"
   ]
  },
  {
   "cell_type": "code",
   "execution_count": null,
   "metadata": {},
   "outputs": [],
   "source": []
  },
  {
   "cell_type": "code",
   "execution_count": null,
   "metadata": {},
   "outputs": [],
   "source": []
  }
 ],
 "metadata": {
  "@webio": {
   "lastCommId": null,
   "lastKernelId": null
  },
  "kernelspec": {
   "display_name": "Python 3",
   "language": "python",
   "name": "python3"
  },
  "language_info": {
   "codemirror_mode": {
    "name": "ipython",
    "version": 3
   },
   "file_extension": ".py",
   "mimetype": "text/x-python",
   "name": "python",
   "nbconvert_exporter": "python",
   "pygments_lexer": "ipython3",
   "version": "3.7.5"
  },
  "latex_envs": {
   "LaTeX_envs_menu_present": false,
   "autoclose": false,
   "autocomplete": false,
   "bibliofile": "biblio.bib",
   "cite_by": "apalike",
   "current_citInitial": 1,
   "eqLabelWithNumbers": true,
   "eqNumInitial": 1,
   "hotkeys": {
    "equation": "Ctrl-E",
    "itemize": "Ctrl-I"
   },
   "labels_anchors": false,
   "latex_user_defs": false,
   "report_style_numbering": false,
   "user_envs_cfg": false
  }
 },
 "nbformat": 4,
 "nbformat_minor": 4
}
