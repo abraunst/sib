{
 "cells": [
  {
   "cell_type": "code",
   "execution_count": 1,
   "metadata": {},
   "outputs": [],
   "source": [
    "import sys\n",
    "sys.path.insert(0,'..')\n",
    "import sib\n",
    "import pandas as pd\n",
    "import numpy as np"
   ]
  },
  {
   "cell_type": "code",
   "execution_count": 2,
   "metadata": {},
   "outputs": [],
   "source": [
    "#name_folder_data = \"ProximityModel/\"\n",
    "name_folder_data = \"dummy/\"\n",
    "#root_folder_data = \"../sibilla/notebooks/data/\"\n",
    "root_folder_data = \"./data/\"\n",
    "folder_data = root_folder_data + name_folder_data"
   ]
  },
  {
   "cell_type": "code",
   "execution_count": 3,
   "metadata": {},
   "outputs": [],
   "source": [
    "file_contacts_name = folder_data +  \"transmissions.csv\"\n",
    "contacts_df = pd.read_csv(file_contacts_name, dtype={\n",
    "                                         \"i\":np.int,\n",
    "                                        \"j\":np.int,\n",
    "                                        \"lamb\":np.float,\n",
    "                                        \"t\":np.int\n",
    "                                                })"
   ]
  },
  {
   "cell_type": "code",
   "execution_count": 4,
   "metadata": {},
   "outputs": [
    {
     "data": {
      "text/html": [
       "<div>\n",
       "<style scoped>\n",
       "    .dataframe tbody tr th:only-of-type {\n",
       "        vertical-align: middle;\n",
       "    }\n",
       "\n",
       "    .dataframe tbody tr th {\n",
       "        vertical-align: top;\n",
       "    }\n",
       "\n",
       "    .dataframe thead th {\n",
       "        text-align: right;\n",
       "    }\n",
       "</style>\n",
       "<table border=\"1\" class=\"dataframe\">\n",
       "  <thead>\n",
       "    <tr style=\"text-align: right;\">\n",
       "      <th></th>\n",
       "      <th>i</th>\n",
       "      <th>j</th>\n",
       "      <th>lambda</th>\n",
       "      <th>t</th>\n",
       "    </tr>\n",
       "  </thead>\n",
       "  <tbody>\n",
       "    <tr>\n",
       "      <th>0</th>\n",
       "      <td>2</td>\n",
       "      <td>3</td>\n",
       "      <td>0.02</td>\n",
       "      <td>0</td>\n",
       "    </tr>\n",
       "    <tr>\n",
       "      <th>1</th>\n",
       "      <td>2</td>\n",
       "      <td>3</td>\n",
       "      <td>0.02</td>\n",
       "      <td>0</td>\n",
       "    </tr>\n",
       "    <tr>\n",
       "      <th>2</th>\n",
       "      <td>1</td>\n",
       "      <td>2</td>\n",
       "      <td>0.02</td>\n",
       "      <td>0</td>\n",
       "    </tr>\n",
       "    <tr>\n",
       "      <th>3</th>\n",
       "      <td>2</td>\n",
       "      <td>1</td>\n",
       "      <td>0.02</td>\n",
       "      <td>1</td>\n",
       "    </tr>\n",
       "    <tr>\n",
       "      <th>4</th>\n",
       "      <td>1</td>\n",
       "      <td>2</td>\n",
       "      <td>0.02</td>\n",
       "      <td>1</td>\n",
       "    </tr>\n",
       "    <tr>\n",
       "      <th>5</th>\n",
       "      <td>0</td>\n",
       "      <td>1</td>\n",
       "      <td>0.02</td>\n",
       "      <td>3</td>\n",
       "    </tr>\n",
       "  </tbody>\n",
       "</table>\n",
       "</div>"
      ],
      "text/plain": [
       "   i  j  lambda  t\n",
       "0  2  3    0.02  0\n",
       "1  2  3    0.02  0\n",
       "2  1  2    0.02  0\n",
       "3  2  1    0.02  1\n",
       "4  1  2    0.02  1\n",
       "5  0  1    0.02  3"
      ]
     },
     "execution_count": 4,
     "metadata": {},
     "output_type": "execute_result"
    }
   ],
   "source": [
    "contacts_df"
   ]
  },
  {
   "cell_type": "code",
   "execution_count": 5,
   "metadata": {},
   "outputs": [
    {
     "name": "stdout",
     "output_type": "stream",
     "text": [
      "number of unique contacts: 4\n"
     ]
    }
   ],
   "source": [
    "# set the correct order!\n",
    "contacts_df = contacts_df[[\"i\", \"j\",\"t\", \"lambda\"]] \n",
    "\n",
    "#removing symmetric contacts\n",
    "d = {'i':'j','j':'i'}\n",
    "contacts_df = pd.concat([contacts_df, contacts_df.rename(columns=d)]).drop_duplicates()\n",
    "contacts_df = contacts_df.sort_values(\"t\")\n",
    "contacts_df = contacts_df[contacts_df[\"i\"] < contacts_df[\"j\"]]\n",
    "\n",
    "# time must start from zero\n",
    "assert(contacts_df[\"t\"].iloc[0] == 0)\n",
    "\n",
    "contacts = list(contacts_df.to_records(index=False))\n",
    "\n",
    "tot_contacts = len(contacts);\n",
    "print(f\"number of unique contacts: {tot_contacts}\")"
   ]
  },
  {
   "cell_type": "code",
   "execution_count": 6,
   "metadata": {},
   "outputs": [
    {
     "name": "stdout",
     "output_type": "stream",
     "text": [
      "number of observartions 2\n"
     ]
    }
   ],
   "source": [
    "file_obs_name = folder_data +  \"observations.csv\"\n",
    "obs_df = pd.read_csv(file_obs_name,\n",
    "                    dtype={\"s\":np.int,\n",
    "                           \"i\":np.int,\n",
    "                           \"t_test\":np.int})\n",
    "observations = list(obs_df.to_records(index=False))\n",
    "tot_obs = len(observations)\n",
    "print(f\"number of observartions {tot_obs}\")"
   ]
  },
  {
   "cell_type": "code",
   "execution_count": 10,
   "metadata": {},
   "outputs": [
    {
     "data": {
      "text/plain": [
       "[(1, 1, 1), (2, 1, 2)]"
      ]
     },
     "execution_count": 10,
     "metadata": {},
     "output_type": "execute_result"
    }
   ],
   "source": [
    "observations"
   ]
  },
  {
   "cell_type": "code",
   "execution_count": 7,
   "metadata": {},
   "outputs": [
    {
     "data": {
      "text/plain": [
       "sib.Params(k=1.000000,mu=0.010000,pseed=0.010000,psus=1.000000)"
      ]
     },
     "execution_count": 7,
     "metadata": {},
     "output_type": "execute_result"
    }
   ],
   "source": [
    "params = sib.Params(mu=0.01, pseed=0.01)\n",
    "params"
   ]
  },
  {
   "cell_type": "code",
   "execution_count": 8,
   "metadata": {},
   "outputs": [],
   "source": [
    "f = sib.FactorGraph(contacts=contacts, observations=observations, params=params)"
   ]
  },
  {
   "cell_type": "code",
   "execution_count": 9,
   "metadata": {},
   "outputs": [
    {
     "name": "stdout",
     "output_type": "stream",
     "text": [
      "0 6.3857096901083805\n",
      "1 5.342938016203551\n",
      "2 0.000442289498560235\n"
     ]
    }
   ],
   "source": [
    "sib.iterate(f, maxit=100)"
   ]
  },
  {
   "cell_type": "code",
   "execution_count": null,
   "metadata": {},
   "outputs": [],
   "source": []
  }
 ],
 "metadata": {
  "kernelspec": {
   "display_name": "Python 3.7.6 64-bit ('oldpy': conda)",
   "language": "python",
   "name": "python37664bitoldpyconda9507dd5c9e4847bf95d949afc4582418"
  },
  "language_info": {
   "codemirror_mode": {
    "name": "ipython",
    "version": 3
   },
   "file_extension": ".py",
   "mimetype": "text/x-python",
   "name": "python",
   "nbconvert_exporter": "python",
   "pygments_lexer": "ipython3",
   "version": "3.7.6"
  }
 },
 "nbformat": 4,
 "nbformat_minor": 4
}
