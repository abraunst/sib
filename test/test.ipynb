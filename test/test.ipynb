{
 "cells": [
  {
   "cell_type": "code",
   "execution_count": 1,
   "metadata": {
    "ExecuteTime": {
     "end_time": "2020-05-04T12:27:39.454061Z",
     "start_time": "2020-05-04T12:27:39.299601Z"
    }
   },
   "outputs": [],
   "source": [
    "import sys\n",
    "sys.path.insert(0,'..')\n",
    "import sib\n",
    "import pandas as pd\n",
    "import numpy as np"
   ]
  },
  {
   "cell_type": "markdown",
   "metadata": {},
   "source": [
    "## Order of parameters\n",
    "\n",
    "### Contacts:\n",
    "\n",
    "in order: (i, j, t, lambda)\n",
    "\n",
    "### Observations:\n",
    "(i,s,t) which is in order:\n",
    "\n",
    "- node\n",
    "- state\n",
    "- time"
   ]
  },
  {
   "cell_type": "code",
   "execution_count": 2,
   "metadata": {
    "ExecuteTime": {
     "end_time": "2020-05-04T12:27:41.063474Z",
     "start_time": "2020-05-04T12:27:41.039643Z"
    }
   },
   "outputs": [
    {
     "name": "stdout",
     "output_type": "stream",
     "text": [
      "number of unique contacts: 6\n"
     ]
    }
   ],
   "source": [
    "#contacts list\n",
    "\n",
    "contacts = [ \n",
    "    (2,3,0,0.02),\n",
    "    (2,3,0,0.02),\n",
    "    (1,2,0,0.02),\n",
    "    (2,1,1,0.02),\n",
    "    (1,2,1,0.02),\n",
    "    (0,1,3,0.02),\n",
    "]\n",
    "tot_contacts = len(contacts);\n",
    "print(f\"number of unique contacts: {tot_contacts}\")"
   ]
  },
  {
   "cell_type": "code",
   "execution_count": 22,
   "metadata": {
    "ExecuteTime": {
     "end_time": "2020-05-04T12:27:41.551099Z",
     "start_time": "2020-05-04T12:27:41.535905Z"
    }
   },
   "outputs": [
    {
     "name": "stdout",
     "output_type": "stream",
     "text": [
      "number of observartions 2\n"
     ]
    }
   ],
   "source": [
    "#Partial observation on individuals\n",
    "\n",
    "observations = [\n",
    "       (1,1,1),\n",
    "       (2,1,2),\n",
    "]\n",
    "tot_obs = len(observations)\n",
    "print(f\"number of observartions {tot_obs}\")"
   ]
  },
  {
   "cell_type": "code",
   "execution_count": 23,
   "metadata": {},
   "outputs": [],
   "source": [
    "# set dummy observation for computing marginals at time t_obs\n",
    "\n",
    "nodes = np.unique(np.array(contacts)[:, 0:2])\n",
    "t_obs = 3\n",
    "observations += [(int(i), -1, t_obs) for i in nodes]"
   ]
  },
  {
   "cell_type": "code",
   "execution_count": 24,
   "metadata": {
    "ExecuteTime": {
     "end_time": "2020-05-04T12:35:27.267709Z",
     "start_time": "2020-05-04T12:35:27.261346Z"
    }
   },
   "outputs": [],
   "source": [
    "#setting the paramters of the inference model\n",
    "\n",
    "params = sib.Params(prob_r=sib.Exponential(mu = 0.2), pseed=0.01)"
   ]
  },
  {
   "cell_type": "code",
   "execution_count": 25,
   "metadata": {
    "ExecuteTime": {
     "end_time": "2020-05-04T12:35:33.147627Z",
     "start_time": "2020-05-04T12:35:33.145394Z"
    }
   },
   "outputs": [],
   "source": [
    "f = sib.FactorGraph(contacts=contacts, observations=observations, params=params)"
   ]
  },
  {
   "cell_type": "code",
   "execution_count": 26,
   "metadata": {
    "ExecuteTime": {
     "end_time": "2020-05-04T12:35:34.670421Z",
     "start_time": "2020-05-04T12:35:34.615588Z"
    }
   },
   "outputs": [
    {
     "name": "stdout",
     "output_type": "stream",
     "text": [
      "0 0.752266342467399\n",
      "1 0.952266342467399\n",
      "2 0.004872461483719004\n",
      "3 0.0\n"
     ]
    }
   ],
   "source": [
    "sib.iterate(f, maxit=100,tol=1e-5)"
   ]
  },
  {
   "cell_type": "markdown",
   "metadata": {},
   "source": [
    "## Marginal at time T = 2"
   ]
  },
  {
   "cell_type": "code",
   "execution_count": 28,
   "metadata": {
    "ExecuteTime": {
     "end_time": "2020-05-04T12:27:49.681708Z",
     "start_time": "2020-05-04T12:27:49.678244Z"
    }
   },
   "outputs": [
    {
     "name": "stdout",
     "output_type": "stream",
     "text": [
      "Marginal of node 0:\n",
      "prob S: 0.98\n",
      "prob I: 0.00881\n",
      "prob R: 0.0108\n",
      "\n",
      "Marginal of node 1:\n",
      "prob S: 0.0\n",
      "prob I: 0.67\n",
      "prob R: 0.33\n",
      "\n",
      "Marginal of node 2:\n",
      "prob S: 0.0\n",
      "prob I: 0.819\n",
      "prob R: 0.181\n",
      "\n",
      "Marginal of node 3:\n",
      "prob S: 0.975\n",
      "prob I: 0.0117\n",
      "prob R: 0.0132\n",
      "\n"
     ]
    }
   ],
   "source": [
    "for i in range(len(f.nodes)):\n",
    "    n = f.nodes[f.get_index(i)]\n",
    "    ttrue = list(n.times).index(t_obs)-1\n",
    "    M = n.marginal_t(ttrue)\n",
    "    print(f\"Marginal of node {i}:\")\n",
    "    print(f\"prob S: {M[0]:.3}\")\n",
    "    print(f\"prob I: {M[1]:.3}\")\n",
    "    print(f\"prob R: {M[2]:.3}\\n\")"
   ]
  },
  {
   "cell_type": "code",
   "execution_count": null,
   "metadata": {},
   "outputs": [],
   "source": []
  }
 ],
 "metadata": {
  "@webio": {
   "lastCommId": null,
   "lastKernelId": null
  },
  "kernelspec": {
   "display_name": "Python 3",
   "language": "python",
   "name": "python3"
  },
  "language_info": {
   "codemirror_mode": {
    "name": "ipython",
    "version": 3
   },
   "file_extension": ".py",
   "mimetype": "text/x-python",
   "name": "python",
   "nbconvert_exporter": "python",
   "pygments_lexer": "ipython3",
   "version": "3.6.10"
  },
  "latex_envs": {
   "LaTeX_envs_menu_present": false,
   "autoclose": false,
   "autocomplete": false,
   "bibliofile": "biblio.bib",
   "cite_by": "apalike",
   "current_citInitial": 1,
   "eqLabelWithNumbers": true,
   "eqNumInitial": 1,
   "hotkeys": {
    "equation": "Ctrl-E",
    "itemize": "Ctrl-I"
   },
   "labels_anchors": false,
   "latex_user_defs": false,
   "report_style_numbering": false,
   "user_envs_cfg": false
  }
 },
 "nbformat": 4,
 "nbformat_minor": 4
}
