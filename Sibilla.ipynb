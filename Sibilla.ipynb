{
 "cells": [
  {
   "cell_type": "code",
   "execution_count": 1,
   "metadata": {
    "ExecuteTime": {
     "end_time": "2020-04-27T11:05:45.655323Z",
     "start_time": "2020-04-27T11:05:45.502822Z"
    }
   },
   "outputs": [],
   "source": [
    "import sib"
   ]
  },
  {
   "cell_type": "code",
   "execution_count": 2,
   "metadata": {
    "ExecuteTime": {
     "end_time": "2020-04-27T11:05:46.112383Z",
     "start_time": "2020-04-27T11:05:46.088899Z"
    }
   },
   "outputs": [
    {
     "data": {
      "text/plain": [
       "sib.Params(k=1.000000,mu=0.010000,pseed=0.010000,damping=0.000000)"
      ]
     },
     "execution_count": 2,
     "metadata": {},
     "output_type": "execute_result"
    }
   ],
   "source": [
    "params = sib.Params(mu=0.01, pseed=0.01)\n",
    "params"
   ]
  },
  {
   "cell_type": "code",
   "execution_count": 3,
   "metadata": {
    "ExecuteTime": {
     "end_time": "2020-04-27T11:05:46.443645Z",
     "start_time": "2020-04-27T11:05:46.434208Z"
    }
   },
   "outputs": [
    {
     "data": {
      "text/plain": [
       "sib.FactorGraph\n",
       "            nodes: 3\n",
       "            edges: 2 (2 assymetric)\n",
       "    time contacts: 2"
      ]
     },
     "execution_count": 3,
     "metadata": {},
     "output_type": "execute_result"
    }
   ],
   "source": [
    "# a contact between 1 and 2 at time 0, with transmission probability 0.5\n",
    "# a contact between 2 and 3 at time 1, with transmission probability 0.4\n",
    "contacts = [(1,2,0,0.5), (2,3,1,0.4)]\n",
    "# node 2 was observed in state I (states are S=0,I=1,R=2) at time 4. \n",
    "observations = [(2,1,4)]\n",
    "f = sib.FactorGraph(params=params, contacts=contacts, observations=observations)\n",
    "f\n",
    "#sib.iterate(f, maxit=100)"
   ]
  },
  {
   "cell_type": "code",
   "execution_count": 4,
   "metadata": {
    "ExecuteTime": {
     "end_time": "2020-04-27T11:05:47.141901Z",
     "start_time": "2020-04-27T11:05:47.087506Z"
    }
   },
   "outputs": [
    {
     "name": "stdout",
     "output_type": "stream",
     "text": [
      "0 0.990049833749168\n",
      "1 0.9713894071971815\n",
      "2 0.3232045355116431\n",
      "3 0.0\n"
     ]
    }
   ],
   "source": [
    "sib.iterate(f)"
   ]
  },
  {
   "cell_type": "code",
   "execution_count": 22,
   "metadata": {
    "ExecuteTime": {
     "end_time": "2020-04-27T11:15:15.364110Z",
     "start_time": "2020-04-27T11:15:15.355534Z"
    }
   },
   "outputs": [],
   "source": [
    "marginals = dict([(n.index, list(zip(n.times, n.bt))) for n in f.nodes])"
   ]
  },
  {
   "cell_type": "code",
   "execution_count": 23,
   "metadata": {
    "ExecuteTime": {
     "end_time": "2020-04-27T11:15:16.797814Z",
     "start_time": "2020-04-27T11:15:16.794745Z"
    }
   },
   "outputs": [
    {
     "data": {
      "text/plain": [
       "[(-1, 0.009900990099009901), (1, 0.39603960396039606), (5, 0.5940594059405941)]"
      ]
     },
     "execution_count": 23,
     "metadata": {},
     "output_type": "execute_result"
    }
   ],
   "source": [
    "marginals[3]"
   ]
  },
  {
   "cell_type": "code",
   "execution_count": null,
   "metadata": {},
   "outputs": [],
   "source": []
  }
 ],
 "metadata": {
  "@webio": {
   "lastCommId": null,
   "lastKernelId": null
  },
  "kernelspec": {
   "display_name": "Python 3",
   "language": "python",
   "name": "python3"
  },
  "language_info": {
   "codemirror_mode": {
    "name": "ipython",
    "version": 3
   },
   "file_extension": ".py",
   "mimetype": "text/x-python",
   "name": "python",
   "nbconvert_exporter": "python",
   "pygments_lexer": "ipython3",
   "version": "3.7.5"
  },
  "latex_envs": {
   "LaTeX_envs_menu_present": false,
   "autoclose": false,
   "autocomplete": false,
   "bibliofile": "biblio.bib",
   "cite_by": "apalike",
   "current_citInitial": 1,
   "eqLabelWithNumbers": true,
   "eqNumInitial": 1,
   "hotkeys": {
    "equation": "Ctrl-E",
    "itemize": "Ctrl-I"
   },
   "labels_anchors": false,
   "latex_user_defs": false,
   "report_style_numbering": false,
   "user_envs_cfg": false
  }
 },
 "nbformat": 4,
 "nbformat_minor": 4
}
