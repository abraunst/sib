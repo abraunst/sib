{
 "cells": [
  {
   "cell_type": "code",
   "execution_count": 1,
   "metadata": {
    "ExecuteTime": {
     "end_time": "2020-04-29T08:10:41.248032Z",
     "start_time": "2020-04-29T08:10:41.244326Z"
    }
   },
   "outputs": [],
   "source": [
    "import sib"
   ]
  },
  {
   "cell_type": "code",
   "execution_count": 2,
   "metadata": {
    "ExecuteTime": {
     "end_time": "2020-04-29T08:10:41.440918Z",
     "start_time": "2020-04-29T08:10:41.418847Z"
    }
   },
   "outputs": [
    {
     "data": {
      "text/plain": [
       "Params(prob_i=Uniform(1),prob_r=Gamma(1,0.1),pseed=0.01,psus=1)"
      ]
     },
     "execution_count": 2,
     "metadata": {},
     "output_type": "execute_result"
    }
   ],
   "source": [
    "params = sib.Params(pseed=0.01)\n",
    "params"
   ]
  },
  {
   "cell_type": "code",
   "execution_count": 3,
   "metadata": {
    "ExecuteTime": {
     "end_time": "2020-04-29T08:10:41.565547Z",
     "start_time": "2020-04-29T08:10:41.554733Z"
    }
   },
   "outputs": [
    {
     "data": {
      "text/plain": [
       "FactorGraph\n",
       "            nodes: 3\n",
       "            edges: 2 (2 assymetric)\n",
       "    time contacts: 2"
      ]
     },
     "execution_count": 3,
     "metadata": {},
     "output_type": "execute_result"
    }
   ],
   "source": [
    "# a contact between 1 and 2 at time 0, with transmission probability 0.5\n",
    "# a contact between 2 and 3 at time 1, with transmission probability 0.4\n",
    "contacts = [(1,2,0,0.5), (2,3,1,0.4)]\n",
    "# node 2 was observed in state I (states are S=0,I=1,R=2) at time 4. \n",
    "observations = [(2,1,4)]\n",
    "f = sib.FactorGraph(params=params, contacts=contacts, observations=observations)\n",
    "f\n",
    "#sib.iterate(f, maxit=100)"
   ]
  },
  {
   "cell_type": "code",
   "execution_count": 4,
   "metadata": {
    "ExecuteTime": {
     "end_time": "2020-04-29T08:10:42.400169Z",
     "start_time": "2020-04-29T08:10:42.374069Z"
    }
   },
   "outputs": [
    {
     "name": "stdout",
     "output_type": "stream",
     "text": [
      "0 2.583420605383865\n",
      "1 1.5784454810057555\n",
      "2 0.0007395589642777206\n"
     ]
    }
   ],
   "source": [
    "sib.iterate(f)"
   ]
  },
  {
   "cell_type": "code",
   "execution_count": 5,
   "metadata": {
    "ExecuteTime": {
     "end_time": "2020-04-29T08:10:42.947481Z",
     "start_time": "2020-04-29T08:10:42.938388Z"
    }
   },
   "outputs": [],
   "source": [
    "marginals = dict([(n.index, list(zip(n.times, n.bt))) for n in f.nodes])"
   ]
  },
  {
   "cell_type": "code",
   "execution_count": 6,
   "metadata": {
    "ExecuteTime": {
     "end_time": "2020-04-29T08:10:45.543697Z",
     "start_time": "2020-04-29T08:10:45.540955Z"
    }
   },
   "outputs": [
    {
     "data": {
      "text/plain": [
       "[(-1, 0.016501650165016504),\n",
       " (1, -0.006600660066006608),\n",
       " (5, 0.9900990099009901)]"
      ]
     },
     "execution_count": 6,
     "metadata": {},
     "output_type": "execute_result"
    }
   ],
   "source": [
    "marginals[3]"
   ]
  },
  {
   "cell_type": "code",
   "execution_count": null,
   "metadata": {},
   "outputs": [],
   "source": []
  },
  {
   "cell_type": "code",
   "execution_count": null,
   "metadata": {},
   "outputs": [],
   "source": []
  }
 ],
 "metadata": {
  "@webio": {
   "lastCommId": null,
   "lastKernelId": null
  },
  "kernelspec": {
   "display_name": "Python 3",
   "language": "python",
   "name": "python3"
  },
  "language_info": {
   "codemirror_mode": {
    "name": "ipython",
    "version": 3
   },
   "file_extension": ".py",
   "mimetype": "text/x-python",
   "name": "python",
   "nbconvert_exporter": "python",
   "pygments_lexer": "ipython3",
   "version": "3.7.5"
  },
  "latex_envs": {
   "LaTeX_envs_menu_present": false,
   "autoclose": false,
   "autocomplete": false,
   "bibliofile": "biblio.bib",
   "cite_by": "apalike",
   "current_citInitial": 1,
   "eqLabelWithNumbers": true,
   "eqNumInitial": 1,
   "hotkeys": {
    "equation": "Ctrl-E",
    "itemize": "Ctrl-I"
   },
   "labels_anchors": false,
   "latex_user_defs": false,
   "report_style_numbering": false,
   "user_envs_cfg": false
  }
 },
 "nbformat": 4,
 "nbformat_minor": 4
}
